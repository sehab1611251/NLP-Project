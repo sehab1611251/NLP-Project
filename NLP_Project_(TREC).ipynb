{
  "nbformat": 4,
  "nbformat_minor": 0,
  "metadata": {
    "colab": {
      "provenance": [],
      "gpuType": "T4",
      "include_colab_link": true
    },
    "kernelspec": {
      "name": "python3",
      "display_name": "Python 3"
    },
    "language_info": {
      "name": "python"
    },
    "accelerator": "GPU"
  },
  "cells": [
    {
      "cell_type": "markdown",
      "metadata": {
        "id": "view-in-github",
        "colab_type": "text"
      },
      "source": [
        "<a href=\"https://colab.research.google.com/github/sehab1611251/NLP-Project/blob/main/NLP_Project_(TREC).ipynb\" target=\"_parent\"><img src=\"https://colab.research.google.com/assets/colab-badge.svg\" alt=\"Open In Colab\"/></a>"
      ]
    },
    {
      "cell_type": "code",
      "execution_count": null,
      "metadata": {
        "id": "rEdnEZvCR6_U"
      },
      "outputs": [],
      "source": [
        "import tensorflow as tf\n",
        "from tensorflow.keras.preprocessing.text import Tokenizer\n",
        "from tensorflow.keras.preprocessing.sequence import pad_sequences\n",
        "from sklearn.model_selection import train_test_split\n",
        "import pandas as pd\n",
        "import nltk\n",
        "from nltk.corpus import stopwords\n",
        "from nltk.tokenize import word_tokenize\n",
        "from nltk.stem import WordNetLemmatizer"
      ]
    },
    {
      "cell_type": "markdown",
      "source": [
        "# Data Processing."
      ],
      "metadata": {
        "id": "WD9sHukpXIEL"
      }
    },
    {
      "cell_type": "code",
      "source": [
        "# Download the set of stop words the first time\n",
        "nltk.download('punkt')\n",
        "nltk.download('stopwords')\n",
        "nltk.download('wordnet') #needed for lemmatization"
      ],
      "metadata": {
        "colab": {
          "base_uri": "https://localhost:8080/"
        },
        "id": "tHmz1p6BWv6C",
        "outputId": "ee126f34-230d-4848-9dce-721a92a014db"
      },
      "execution_count": null,
      "outputs": [
        {
          "output_type": "stream",
          "name": "stderr",
          "text": [
            "[nltk_data] Downloading package punkt to /root/nltk_data...\n",
            "[nltk_data]   Unzipping tokenizers/punkt.zip.\n",
            "[nltk_data] Downloading package stopwords to /root/nltk_data...\n",
            "[nltk_data]   Unzipping corpora/stopwords.zip.\n",
            "[nltk_data] Downloading package wordnet to /root/nltk_data...\n"
          ]
        },
        {
          "output_type": "execute_result",
          "data": {
            "text/plain": [
              "True"
            ]
          },
          "metadata": {},
          "execution_count": 2
        }
      ]
    },
    {
      "cell_type": "code",
      "source": [
        "# Get the list of stop words in English\n",
        "stop_words = set(stopwords.words('english'))"
      ],
      "metadata": {
        "id": "Vz5yaMbUWzWF"
      },
      "execution_count": null,
      "outputs": []
    },
    {
      "cell_type": "code",
      "source": [
        "# Initialize the lemmatizer\n",
        "lemmatizer = WordNetLemmatizer()"
      ],
      "metadata": {
        "id": "NtHUXy5Tbwpt"
      },
      "execution_count": null,
      "outputs": []
    },
    {
      "cell_type": "code",
      "source": [
        "# Load the dataset\n",
        "data = pd.read_csv('/content/email_origin.csv', skiprows=1, names=['label', 'text'])"
      ],
      "metadata": {
        "id": "l9XjTlQFfTi-"
      },
      "execution_count": null,
      "outputs": []
    },
    {
      "cell_type": "code",
      "source": [
        "data"
      ],
      "metadata": {
        "colab": {
          "base_uri": "https://localhost:8080/",
          "height": 424
        },
        "id": "9eq6F5hUUNn3",
        "outputId": "99ade50c-9297-4415-cca0-1167403b960a"
      },
      "execution_count": null,
      "outputs": [
        {
          "output_type": "execute_result",
          "data": {
            "text/plain": [
              "       label                                               text\n",
              "0          1  do you feel the pressure to perform and not ri...\n",
              "1          0  hi i've just updated from the gulus and i chec...\n",
              "2          1  mega authenticv i a g r a discount pricec i a ...\n",
              "3          1  hey billy it was really fun going out the othe...\n",
              "4          1  system of the home it will have the capabiliti...\n",
              "...      ...                                                ...\n",
              "53663      1  versuchen sie unser produkt und sie werden fuh...\n",
              "53664      1  while we may have high expectations of our ass...\n",
              "53665      0  for those who are interested i just cook a lit...\n",
              "53666      0  hello as i wrote i call sqlfetch channel t stu...\n",
              "53667      1  well are implicated when does not the stage wh...\n",
              "\n",
              "[53668 rows x 2 columns]"
            ],
            "text/html": [
              "\n",
              "  <div id=\"df-6283fdc4-5fca-4072-a752-0de4af352dd6\" class=\"colab-df-container\">\n",
              "    <div>\n",
              "<style scoped>\n",
              "    .dataframe tbody tr th:only-of-type {\n",
              "        vertical-align: middle;\n",
              "    }\n",
              "\n",
              "    .dataframe tbody tr th {\n",
              "        vertical-align: top;\n",
              "    }\n",
              "\n",
              "    .dataframe thead th {\n",
              "        text-align: right;\n",
              "    }\n",
              "</style>\n",
              "<table border=\"1\" class=\"dataframe\">\n",
              "  <thead>\n",
              "    <tr style=\"text-align: right;\">\n",
              "      <th></th>\n",
              "      <th>label</th>\n",
              "      <th>text</th>\n",
              "    </tr>\n",
              "  </thead>\n",
              "  <tbody>\n",
              "    <tr>\n",
              "      <th>0</th>\n",
              "      <td>1</td>\n",
              "      <td>do you feel the pressure to perform and not ri...</td>\n",
              "    </tr>\n",
              "    <tr>\n",
              "      <th>1</th>\n",
              "      <td>0</td>\n",
              "      <td>hi i've just updated from the gulus and i chec...</td>\n",
              "    </tr>\n",
              "    <tr>\n",
              "      <th>2</th>\n",
              "      <td>1</td>\n",
              "      <td>mega authenticv i a g r a discount pricec i a ...</td>\n",
              "    </tr>\n",
              "    <tr>\n",
              "      <th>3</th>\n",
              "      <td>1</td>\n",
              "      <td>hey billy it was really fun going out the othe...</td>\n",
              "    </tr>\n",
              "    <tr>\n",
              "      <th>4</th>\n",
              "      <td>1</td>\n",
              "      <td>system of the home it will have the capabiliti...</td>\n",
              "    </tr>\n",
              "    <tr>\n",
              "      <th>...</th>\n",
              "      <td>...</td>\n",
              "      <td>...</td>\n",
              "    </tr>\n",
              "    <tr>\n",
              "      <th>53663</th>\n",
              "      <td>1</td>\n",
              "      <td>versuchen sie unser produkt und sie werden fuh...</td>\n",
              "    </tr>\n",
              "    <tr>\n",
              "      <th>53664</th>\n",
              "      <td>1</td>\n",
              "      <td>while we may have high expectations of our ass...</td>\n",
              "    </tr>\n",
              "    <tr>\n",
              "      <th>53665</th>\n",
              "      <td>0</td>\n",
              "      <td>for those who are interested i just cook a lit...</td>\n",
              "    </tr>\n",
              "    <tr>\n",
              "      <th>53666</th>\n",
              "      <td>0</td>\n",
              "      <td>hello as i wrote i call sqlfetch channel t stu...</td>\n",
              "    </tr>\n",
              "    <tr>\n",
              "      <th>53667</th>\n",
              "      <td>1</td>\n",
              "      <td>well are implicated when does not the stage wh...</td>\n",
              "    </tr>\n",
              "  </tbody>\n",
              "</table>\n",
              "<p>53668 rows × 2 columns</p>\n",
              "</div>\n",
              "    <div class=\"colab-df-buttons\">\n",
              "\n",
              "  <div class=\"colab-df-container\">\n",
              "    <button class=\"colab-df-convert\" onclick=\"convertToInteractive('df-6283fdc4-5fca-4072-a752-0de4af352dd6')\"\n",
              "            title=\"Convert this dataframe to an interactive table.\"\n",
              "            style=\"display:none;\">\n",
              "\n",
              "  <svg xmlns=\"http://www.w3.org/2000/svg\" height=\"24px\" viewBox=\"0 -960 960 960\">\n",
              "    <path d=\"M120-120v-720h720v720H120Zm60-500h600v-160H180v160Zm220 220h160v-160H400v160Zm0 220h160v-160H400v160ZM180-400h160v-160H180v160Zm440 0h160v-160H620v160ZM180-180h160v-160H180v160Zm440 0h160v-160H620v160Z\"/>\n",
              "  </svg>\n",
              "    </button>\n",
              "\n",
              "  <style>\n",
              "    .colab-df-container {\n",
              "      display:flex;\n",
              "      gap: 12px;\n",
              "    }\n",
              "\n",
              "    .colab-df-convert {\n",
              "      background-color: #E8F0FE;\n",
              "      border: none;\n",
              "      border-radius: 50%;\n",
              "      cursor: pointer;\n",
              "      display: none;\n",
              "      fill: #1967D2;\n",
              "      height: 32px;\n",
              "      padding: 0 0 0 0;\n",
              "      width: 32px;\n",
              "    }\n",
              "\n",
              "    .colab-df-convert:hover {\n",
              "      background-color: #E2EBFA;\n",
              "      box-shadow: 0px 1px 2px rgba(60, 64, 67, 0.3), 0px 1px 3px 1px rgba(60, 64, 67, 0.15);\n",
              "      fill: #174EA6;\n",
              "    }\n",
              "\n",
              "    .colab-df-buttons div {\n",
              "      margin-bottom: 4px;\n",
              "    }\n",
              "\n",
              "    [theme=dark] .colab-df-convert {\n",
              "      background-color: #3B4455;\n",
              "      fill: #D2E3FC;\n",
              "    }\n",
              "\n",
              "    [theme=dark] .colab-df-convert:hover {\n",
              "      background-color: #434B5C;\n",
              "      box-shadow: 0px 1px 3px 1px rgba(0, 0, 0, 0.15);\n",
              "      filter: drop-shadow(0px 1px 2px rgba(0, 0, 0, 0.3));\n",
              "      fill: #FFFFFF;\n",
              "    }\n",
              "  </style>\n",
              "\n",
              "    <script>\n",
              "      const buttonEl =\n",
              "        document.querySelector('#df-6283fdc4-5fca-4072-a752-0de4af352dd6 button.colab-df-convert');\n",
              "      buttonEl.style.display =\n",
              "        google.colab.kernel.accessAllowed ? 'block' : 'none';\n",
              "\n",
              "      async function convertToInteractive(key) {\n",
              "        const element = document.querySelector('#df-6283fdc4-5fca-4072-a752-0de4af352dd6');\n",
              "        const dataTable =\n",
              "          await google.colab.kernel.invokeFunction('convertToInteractive',\n",
              "                                                    [key], {});\n",
              "        if (!dataTable) return;\n",
              "\n",
              "        const docLinkHtml = 'Like what you see? Visit the ' +\n",
              "          '<a target=\"_blank\" href=https://colab.research.google.com/notebooks/data_table.ipynb>data table notebook</a>'\n",
              "          + ' to learn more about interactive tables.';\n",
              "        element.innerHTML = '';\n",
              "        dataTable['output_type'] = 'display_data';\n",
              "        await google.colab.output.renderOutput(dataTable, element);\n",
              "        const docLink = document.createElement('div');\n",
              "        docLink.innerHTML = docLinkHtml;\n",
              "        element.appendChild(docLink);\n",
              "      }\n",
              "    </script>\n",
              "  </div>\n",
              "\n",
              "\n",
              "<div id=\"df-90e03797-0396-402f-8281-e19523e71beb\">\n",
              "  <button class=\"colab-df-quickchart\" onclick=\"quickchart('df-90e03797-0396-402f-8281-e19523e71beb')\"\n",
              "            title=\"Suggest charts\"\n",
              "            style=\"display:none;\">\n",
              "\n",
              "<svg xmlns=\"http://www.w3.org/2000/svg\" height=\"24px\"viewBox=\"0 0 24 24\"\n",
              "     width=\"24px\">\n",
              "    <g>\n",
              "        <path d=\"M19 3H5c-1.1 0-2 .9-2 2v14c0 1.1.9 2 2 2h14c1.1 0 2-.9 2-2V5c0-1.1-.9-2-2-2zM9 17H7v-7h2v7zm4 0h-2V7h2v10zm4 0h-2v-4h2v4z\"/>\n",
              "    </g>\n",
              "</svg>\n",
              "  </button>\n",
              "\n",
              "<style>\n",
              "  .colab-df-quickchart {\n",
              "      --bg-color: #E8F0FE;\n",
              "      --fill-color: #1967D2;\n",
              "      --hover-bg-color: #E2EBFA;\n",
              "      --hover-fill-color: #174EA6;\n",
              "      --disabled-fill-color: #AAA;\n",
              "      --disabled-bg-color: #DDD;\n",
              "  }\n",
              "\n",
              "  [theme=dark] .colab-df-quickchart {\n",
              "      --bg-color: #3B4455;\n",
              "      --fill-color: #D2E3FC;\n",
              "      --hover-bg-color: #434B5C;\n",
              "      --hover-fill-color: #FFFFFF;\n",
              "      --disabled-bg-color: #3B4455;\n",
              "      --disabled-fill-color: #666;\n",
              "  }\n",
              "\n",
              "  .colab-df-quickchart {\n",
              "    background-color: var(--bg-color);\n",
              "    border: none;\n",
              "    border-radius: 50%;\n",
              "    cursor: pointer;\n",
              "    display: none;\n",
              "    fill: var(--fill-color);\n",
              "    height: 32px;\n",
              "    padding: 0;\n",
              "    width: 32px;\n",
              "  }\n",
              "\n",
              "  .colab-df-quickchart:hover {\n",
              "    background-color: var(--hover-bg-color);\n",
              "    box-shadow: 0 1px 2px rgba(60, 64, 67, 0.3), 0 1px 3px 1px rgba(60, 64, 67, 0.15);\n",
              "    fill: var(--button-hover-fill-color);\n",
              "  }\n",
              "\n",
              "  .colab-df-quickchart-complete:disabled,\n",
              "  .colab-df-quickchart-complete:disabled:hover {\n",
              "    background-color: var(--disabled-bg-color);\n",
              "    fill: var(--disabled-fill-color);\n",
              "    box-shadow: none;\n",
              "  }\n",
              "\n",
              "  .colab-df-spinner {\n",
              "    border: 2px solid var(--fill-color);\n",
              "    border-color: transparent;\n",
              "    border-bottom-color: var(--fill-color);\n",
              "    animation:\n",
              "      spin 1s steps(1) infinite;\n",
              "  }\n",
              "\n",
              "  @keyframes spin {\n",
              "    0% {\n",
              "      border-color: transparent;\n",
              "      border-bottom-color: var(--fill-color);\n",
              "      border-left-color: var(--fill-color);\n",
              "    }\n",
              "    20% {\n",
              "      border-color: transparent;\n",
              "      border-left-color: var(--fill-color);\n",
              "      border-top-color: var(--fill-color);\n",
              "    }\n",
              "    30% {\n",
              "      border-color: transparent;\n",
              "      border-left-color: var(--fill-color);\n",
              "      border-top-color: var(--fill-color);\n",
              "      border-right-color: var(--fill-color);\n",
              "    }\n",
              "    40% {\n",
              "      border-color: transparent;\n",
              "      border-right-color: var(--fill-color);\n",
              "      border-top-color: var(--fill-color);\n",
              "    }\n",
              "    60% {\n",
              "      border-color: transparent;\n",
              "      border-right-color: var(--fill-color);\n",
              "    }\n",
              "    80% {\n",
              "      border-color: transparent;\n",
              "      border-right-color: var(--fill-color);\n",
              "      border-bottom-color: var(--fill-color);\n",
              "    }\n",
              "    90% {\n",
              "      border-color: transparent;\n",
              "      border-bottom-color: var(--fill-color);\n",
              "    }\n",
              "  }\n",
              "</style>\n",
              "\n",
              "  <script>\n",
              "    async function quickchart(key) {\n",
              "      const quickchartButtonEl =\n",
              "        document.querySelector('#' + key + ' button');\n",
              "      quickchartButtonEl.disabled = true;  // To prevent multiple clicks.\n",
              "      quickchartButtonEl.classList.add('colab-df-spinner');\n",
              "      try {\n",
              "        const charts = await google.colab.kernel.invokeFunction(\n",
              "            'suggestCharts', [key], {});\n",
              "      } catch (error) {\n",
              "        console.error('Error during call to suggestCharts:', error);\n",
              "      }\n",
              "      quickchartButtonEl.classList.remove('colab-df-spinner');\n",
              "      quickchartButtonEl.classList.add('colab-df-quickchart-complete');\n",
              "    }\n",
              "    (() => {\n",
              "      let quickchartButtonEl =\n",
              "        document.querySelector('#df-90e03797-0396-402f-8281-e19523e71beb button');\n",
              "      quickchartButtonEl.style.display =\n",
              "        google.colab.kernel.accessAllowed ? 'block' : 'none';\n",
              "    })();\n",
              "  </script>\n",
              "</div>\n",
              "    </div>\n",
              "  </div>\n"
            ],
            "application/vnd.google.colaboratory.intrinsic+json": {
              "type": "dataframe",
              "variable_name": "data",
              "summary": "{\n  \"name\": \"data\",\n  \"rows\": 53668,\n  \"fields\": [\n    {\n      \"column\": \"label\",\n      \"properties\": {\n        \"dtype\": \"number\",\n        \"std\": 0,\n        \"min\": 0,\n        \"max\": 1,\n        \"num_unique_values\": 2,\n        \"samples\": [\n          0,\n          1\n        ],\n        \"semantic_type\": \"\",\n        \"description\": \"\"\n      }\n    },\n    {\n      \"column\": \"text\",\n      \"properties\": {\n        \"dtype\": \"string\",\n        \"num_unique_values\": 53668,\n        \"samples\": [\n          \"hello in the license header of a source file being licensed under the gpl there must be a copyright notice sometimes i see the usage of all rights reserved in that notice copyright c escapenumber company x all rights reserved escapenumber is the usage of all rights reserved appropriate when a file is being licensed under the gpl or in fact under whatever license escapenumber what is the purpose of its usage escapenumber if it is that the licensor wants to say any rights i have not explicitly given you you do not have escapenumber if so would it not be necessary strictly speaking to say so i e all rights regarding this work unless explicitly granted to the licensee are reserved by the licensor all rights reserved seems to be inappropriate if not incorrect when in fact all rights are not reserved escapenumber is it advisable to use such a terminology in a copyright statement in a file licensed under the gpl thanks for your thoughts shriramana sharma to unsubscribe email to debian legal request lists debian org with a subject of unsubscribe trouble contact listmaster lists debian org\",\n          \"and pensive by turns lost his appetite neglected his dress and devoted much aescapenumber aescapenumberpolly says she is n't needed at home now the family is so small and kitty yet untried allured him and deeper than all the desire to forget the past in hat in hand and said in the politest tone possible to a mortal boy of his and pensive by turns lost his appetite neglected his dress and devoted much and pensive by turns lost his appetite neglected his dress and devoted much house and the children to hen'retta and went pleasurin' frequent all in my very life like so was the smiling face under the locks of shining hair both aescapenumber aescapenumberold six foot snodgrass looms on high old six foot snodgrass looms on high aescapenumber aescapenumber mother isn't sick who stood laughing each with a large basket in his hands love offered her and she resented the authority he assumed too soon resented it was a very bad quarter of an hour for the poor fellow who so seldom so i wrote the letter you want demi living in is a much simpler honester one than that you are now to enter test aescapenumber aescapenumberfrom that day forth and when rose added playfully thinking to relieve the shyness of so young a aescapenumber escapelong in deed as well as name felt assured that this woman needed all the wad answered the irreverent tom whose preparations for school consisted in that her sweet little daughter would be sought after as soon as she should lengthen till she was tired and hot then stood watching others till she was you might treat him civilly oh said tom looking a little sheepish but anxious to set his mind at aescapenumber aescapenumbermeg and rustled across the room to shake hands with her friend as the clock struck aescapenumber aescapenumberso i did answered laurie without turning his eyes upon her though after a while they began to think he was not going the lion's back the hen whispered eagerly to the girl the matter with stuffy escapenumberf asked nan whose quick eyes were roving from it was that sally she said she'd other and has not suggested such a thing as parting us there is twitter chirp and coo as if all the birds of the air had come to aescapenumber aescapenumberthere was an air of pensive resignation aescapenumber aescapenumberfor the humble and the poor it impressed them more than many quiet him to build a fire in the hearth and while tip was thus engaged mother doesn't approve of flirting even back more discontented than she went but she begged so hard and he did n't know exactly what he meant to do but it had many of the same needs to all that the wonder is we do not understand aescapenumber aescapenumber the corner and mrs bhaer close by to fill up plate and mug as fast the old and the new emotions comfortably adjusted but mrs jo helped him window in her little nightgown to look out and say no matter whether as bad as too many bonbons i have paid my forfeit and i go and mr bhaer aescapenumber aescapenumber oh dear i'm so sorry for you'll get to liking\"\n        ],\n        \"semantic_type\": \"\",\n        \"description\": \"\"\n      }\n    }\n  ]\n}"
            }
          },
          "metadata": {},
          "execution_count": 6
        }
      ]
    },
    {
      "cell_type": "code",
      "source": [
        "print(data.columns)"
      ],
      "metadata": {
        "colab": {
          "base_uri": "https://localhost:8080/"
        },
        "id": "601-40sJZ_r9",
        "outputId": "abea607e-034e-4476-cde2-e98ff352c961"
      },
      "execution_count": null,
      "outputs": [
        {
          "output_type": "stream",
          "name": "stdout",
          "text": [
            "Index(['label', 'text'], dtype='object')\n"
          ]
        }
      ]
    },
    {
      "cell_type": "code",
      "source": [
        "# Convert the labels to integer format\n",
        "data['label'] = data['label'].astype(int)"
      ],
      "metadata": {
        "id": "h2JzMAD5e33C"
      },
      "execution_count": null,
      "outputs": []
    },
    {
      "cell_type": "code",
      "source": [
        "# Separate labels and text data\n",
        "labels = data['label']\n",
        "text_data = data['text']"
      ],
      "metadata": {
        "id": "FSmFXUdfd90E"
      },
      "execution_count": null,
      "outputs": []
    },
    {
      "cell_type": "code",
      "source": [
        "print(text_data)"
      ],
      "metadata": {
        "colab": {
          "base_uri": "https://localhost:8080/"
        },
        "id": "UB4m5dHjV-1g",
        "outputId": "71e6276a-eb95-45c3-a8f3-2122eed95e41"
      },
      "execution_count": null,
      "outputs": [
        {
          "output_type": "stream",
          "name": "stdout",
          "text": [
            "0        do you feel the pressure to perform and not ri...\n",
            "1        hi i've just updated from the gulus and i chec...\n",
            "2        mega authenticv i a g r a discount pricec i a ...\n",
            "3        hey billy it was really fun going out the othe...\n",
            "4        system of the home it will have the capabiliti...\n",
            "                               ...                        \n",
            "53663    versuchen sie unser produkt und sie werden fuh...\n",
            "53664    while we may have high expectations of our ass...\n",
            "53665    for those who are interested i just cook a lit...\n",
            "53666    hello as i wrote i call sqlfetch channel t stu...\n",
            "53667    well are implicated when does not the stage wh...\n",
            "Name: text, Length: 53668, dtype: object\n"
          ]
        }
      ]
    },
    {
      "cell_type": "code",
      "source": [
        "#Lowercase all text data\n",
        "text_data = [text.lower() for text in text_data]"
      ],
      "metadata": {
        "id": "hJybMO2iUW6p"
      },
      "execution_count": null,
      "outputs": []
    },
    {
      "cell_type": "code",
      "source": [
        "#Find the number of unique words\n",
        "#Remove stop words and perform lemmatization\n",
        "text_data = [' '.join(lemmatizer.lemmatize(word) for word in word_tokenize(text) if word not in stop_words) for text in text_data]\n",
        "# Combine all the text data\n",
        "all_text = ' '.join(text_data)\n",
        "# Tokenize the text data\n",
        "all_words = all_text.split(' ')\n",
        "# Get the number of unique words\n",
        "num_unique_words = len(set(all_words))\n",
        "print(f\"Number of unique words: {num_unique_words}\")"
      ],
      "metadata": {
        "colab": {
          "base_uri": "https://localhost:8080/"
        },
        "id": "KVF33sBUNpZ3",
        "outputId": "b5864828-ec84-4c03-96f4-ee38db11656b"
      },
      "execution_count": null,
      "outputs": [
        {
          "output_type": "stream",
          "name": "stdout",
          "text": [
            "Number of unique words: 211186\n"
          ]
        }
      ]
    },
    {
      "cell_type": "code",
      "source": [
        "from collections import Counter\n",
        "import numpy as np\n",
        "\n",
        "# Count the frequency of each word\n",
        "word_counts = Counter(all_words)\n",
        "# Sort the words by frequency (from high to low)\n",
        "sorted_word_counts = sorted(word_counts.items(), key=lambda item: item[1], reverse=True)\n",
        "\n",
        "# Calculate the cumulative sum of word frequencies\n",
        "cumulative_word_counts = np.cumsum([count for word, count in sorted_word_counts])\n",
        "# Calculate the total number of word occurrences\n",
        "total_word_count = cumulative_word_counts[-1]\n",
        "\n",
        "# Find the smallest number of most frequent words that make up at least 95% of the total word occurrences\n",
        "num_words_95_percent = next(i for i, cumulative_count in enumerate(cumulative_word_counts) if cumulative_count >= total_word_count * 0.95)\n",
        "\n",
        "print(f\"Number of words for 95% coverage: {num_words_95_percent}\")\n"
      ],
      "metadata": {
        "colab": {
          "base_uri": "https://localhost:8080/"
        },
        "id": "_Kq8h_N5Or3r",
        "outputId": "6f8836b6-8175-406e-e6ac-5c39c9331bd1"
      },
      "execution_count": null,
      "outputs": [
        {
          "output_type": "stream",
          "name": "stdout",
          "text": [
            "Number of words for 95% coverage: 23555\n"
          ]
        }
      ]
    },
    {
      "cell_type": "code",
      "source": [
        "#Tokenize the text data\n",
        "tokenizer = Tokenizer(num_words=num_words_95_percent)\n",
        "tokenizer.fit_on_texts(text_data)\n",
        "sequences = tokenizer.texts_to_sequences(text_data)"
      ],
      "metadata": {
        "id": "TQ2z7GOcVOi9"
      },
      "execution_count": null,
      "outputs": []
    },
    {
      "cell_type": "code",
      "source": [
        "# Get the vocabulary size from the tokenizer\n",
        "vocab_size = len(tokenizer.word_index) + 1  # Consider padding index (0)"
      ],
      "metadata": {
        "id": "1vV5fHTvVmm4"
      },
      "execution_count": null,
      "outputs": []
    },
    {
      "cell_type": "code",
      "source": [
        "vocab_size"
      ],
      "metadata": {
        "colab": {
          "base_uri": "https://localhost:8080/"
        },
        "id": "cLrFT7DRfl3T",
        "outputId": "f07e5911-716c-46ed-c853-0386f673d799"
      },
      "execution_count": null,
      "outputs": [
        {
          "output_type": "execute_result",
          "data": {
            "text/plain": [
              "209664"
            ]
          },
          "metadata": {},
          "execution_count": 16
        }
      ]
    },
    {
      "cell_type": "code",
      "source": [
        "#Find maximum length of a sequence\n",
        "# Calculate the length of each sequence\n",
        "sequence_lengths = [len(sequence) for sequence in sequences]\n",
        "# Find the maximum length\n",
        "max_len = max(sequence_lengths)\n",
        "print(f\"Maximum length: {max_len}\") # Adjustable hyperparameter"
      ],
      "metadata": {
        "colab": {
          "base_uri": "https://localhost:8080/"
        },
        "id": "dn9KA7XUTTz_",
        "outputId": "221fc0b6-7bfb-47a9-9339-386f6b9e0fc9"
      },
      "execution_count": null,
      "outputs": [
        {
          "output_type": "stream",
          "name": "stdout",
          "text": [
            "Maximum length: 94773\n"
          ]
        }
      ]
    },
    {
      "cell_type": "code",
      "source": [
        "# Find the length that covers 95% of the sequences\n",
        "max_len_95_percent = int(np.percentile(sequence_lengths, 95))\n",
        "print(f\"Length for 95% coverage: {max_len_95_percent}\")"
      ],
      "metadata": {
        "colab": {
          "base_uri": "https://localhost:8080/"
        },
        "id": "3TrkATW6WFpy",
        "outputId": "a244ea17-b668-4e51-b4ac-fef59a5706dd"
      },
      "execution_count": null,
      "outputs": [
        {
          "output_type": "stream",
          "name": "stdout",
          "text": [
            "Length for 95% coverage: 532\n"
          ]
        }
      ]
    },
    {
      "cell_type": "code",
      "source": [
        "#Pad sequences with zeros to ensure a fixed length (e.g., max_len)\n",
        "padded_sequences = pad_sequences(sequences, maxlen=max_len_95_percent, padding='post')"
      ],
      "metadata": {
        "id": "QyfAVElyVwn_"
      },
      "execution_count": null,
      "outputs": []
    },
    {
      "cell_type": "code",
      "source": [
        "len(padded_sequences[0])"
      ],
      "metadata": {
        "colab": {
          "base_uri": "https://localhost:8080/"
        },
        "id": "ttkZlmQGXo4J",
        "outputId": "8ba0e2be-9786-4130-8ee4-6afdd7a1844e"
      },
      "execution_count": null,
      "outputs": [
        {
          "output_type": "execute_result",
          "data": {
            "text/plain": [
              "532"
            ]
          },
          "metadata": {},
          "execution_count": 19
        }
      ]
    },
    {
      "cell_type": "code",
      "source": [
        "# Split the data into training, validation, and test sets\n",
        "X_temp, X_test, y_temp, y_test = train_test_split(padded_sequences, labels, test_size=0.2, random_state=42)  # Split into temp and test sets"
      ],
      "metadata": {
        "id": "f3Z1DwoE6oR8"
      },
      "execution_count": null,
      "outputs": []
    },
    {
      "cell_type": "code",
      "source": [
        "X_train, X_val, y_train, y_val = train_test_split(X_temp, y_temp, test_size=0.25, random_state=42)  # Split temp set into training and validation sets"
      ],
      "metadata": {
        "id": "YBWQevYSBjpz"
      },
      "execution_count": null,
      "outputs": []
    },
    {
      "cell_type": "code",
      "source": [
        "# This section returns the processed data ready for model building\n",
        "processed_data = (X_train, X_val, X_test, y_train, y_val, y_test, vocab_size)"
      ],
      "metadata": {
        "id": "aOXzLTuCV9Tr"
      },
      "execution_count": null,
      "outputs": []
    },
    {
      "cell_type": "code",
      "source": [
        "processed_data"
      ],
      "metadata": {
        "colab": {
          "base_uri": "https://localhost:8080/"
        },
        "id": "FoLs8jAMoeJO",
        "outputId": "4ee9116a-aca3-4483-ea8f-31858e9d0c4e"
      },
      "execution_count": null,
      "outputs": [
        {
          "output_type": "execute_result",
          "data": {
            "text/plain": [
              "(array([[ 5064,   680,    15, ...,     0,     0,     0],\n",
              "        [  170,   561,    10, ...,     0,     0,     0],\n",
              "        [  363,  1951,   314, ...,     0,     0,     0],\n",
              "        ...,\n",
              "        [  557,  3355, 14830, ...,     0,     0,     0],\n",
              "        [    2,    93,   278, ...,     0,     0,     0],\n",
              "        [  228,  1342,    36, ...,     0,     0,     0]], dtype=int32),\n",
              " array([[ 202,  443,  213, ...,    0,    0,    0],\n",
              "        [1182,  485, 5641, ...,    0,    0,    0],\n",
              "        [ 925,   31,  239, ...,    0,    0,    0],\n",
              "        ...,\n",
              "        [5716,  486,    5, ...,    0,    0,    0],\n",
              "        [ 274,   44,  210, ...,    0,    0,    0],\n",
              "        [ 606, 1935, 6144, ...,    0,    0,    0]], dtype=int32),\n",
              " array([[ 587,  302,  725, ...,    0,    0,    0],\n",
              "        [ 781, 1358, 1217, ...,    0,    0,    0],\n",
              "        [1267,  274,    3, ...,    0,    0,    0],\n",
              "        ...,\n",
              "        [ 461,  669, 1105, ...,    0,    0,    0],\n",
              "        [ 345,  320,    1, ...,    0,    0,    0],\n",
              "        [ 872,    1,    1, ...,    0,    0,    0]], dtype=int32),\n",
              " 24039    0\n",
              " 3177     1\n",
              " 2039     1\n",
              " 50962    0\n",
              " 783      1\n",
              "         ..\n",
              " 41286    0\n",
              " 50477    1\n",
              " 45833    1\n",
              " 17987    1\n",
              " 32763    0\n",
              " Name: label, Length: 32200, dtype: int64,\n",
              " 3459     1\n",
              " 4687     1\n",
              " 2734     1\n",
              " 32649    0\n",
              " 26655    0\n",
              "         ..\n",
              " 3706     0\n",
              " 13276    1\n",
              " 41655    1\n",
              " 30926    0\n",
              " 42733    1\n",
              " Name: label, Length: 10734, dtype: int64,\n",
              " 49028    0\n",
              " 29681    1\n",
              " 15142    1\n",
              " 44239    0\n",
              " 28839    0\n",
              "         ..\n",
              " 12102    1\n",
              " 30322    1\n",
              " 22896    0\n",
              " 25776    0\n",
              " 14067    0\n",
              " Name: label, Length: 10734, dtype: int64,\n",
              " 209664)"
            ]
          },
          "metadata": {},
          "execution_count": 23
        }
      ]
    },
    {
      "cell_type": "markdown",
      "source": [
        "# Model Building."
      ],
      "metadata": {
        "id": "kdhlGSKkWsca"
      }
    },
    {
      "cell_type": "code",
      "source": [
        "import tensorflow as tf\n",
        "import numpy as np\n",
        "from tensorflow.keras.layers import Input, Embedding, Bidirectional, LSTM, GlobalAveragePooling1D, Dense\n",
        "from tensorflow.keras.models import Model\n",
        "from tensorflow.keras.optimizers import Adam\n",
        "from tensorflow.keras.losses import BinaryCrossentropy\n",
        "from tensorflow.keras.metrics import Accuracy\n",
        "from tensorflow.keras.callbacks import EarlyStopping\n",
        "from tensorflow.keras.metrics import BinaryAccuracy\n",
        "from tensorflow.keras.layers import Dropout\n",
        "from tensorflow.keras.regularizers import l2"
      ],
      "metadata": {
        "id": "oRnXbkokWyqM"
      },
      "execution_count": null,
      "outputs": []
    },
    {
      "cell_type": "code",
      "source": [
        "# Get the processed data from Data Processing Step\n",
        "X_train, X_val, X_test, y_train, y_val, y_test, vocab_size = processed_data"
      ],
      "metadata": {
        "id": "3Ir2tMmV7lRY"
      },
      "execution_count": null,
      "outputs": []
    },
    {
      "cell_type": "code",
      "source": [
        "# Define the model\n",
        "embed_dim = 64  # Embedding dimension\n",
        "rnn_units = 128 # Number of units in LSTM layers\n",
        "batch_size = 32  # Batch size for training\n",
        "learning_rate = 0.0001  # Learning rate\n",
        "dropout_rate = 0.5  # Dropout rate\n",
        "l2_reg = 0.01  # L2 regularization rate"
      ],
      "metadata": {
        "id": "su-GZ8fiXbu2"
      },
      "execution_count": null,
      "outputs": []
    },
    {
      "cell_type": "code",
      "source": [
        "inputs = Input(shape=(max_len_95_percent,), dtype=tf.int32)"
      ],
      "metadata": {
        "id": "WO8rLK4FXfdK"
      },
      "execution_count": null,
      "outputs": []
    },
    {
      "cell_type": "code",
      "source": [
        "# Embedding layer to convert word indices to vectors\n",
        "embeddings = Embedding(vocab_size, embed_dim)(inputs)"
      ],
      "metadata": {
        "id": "reRYYtrWXlJc"
      },
      "execution_count": null,
      "outputs": []
    },
    {
      "cell_type": "code",
      "source": [
        "# Bi-directional LSTM layer for processing sequences\n",
        "x = Bidirectional(LSTM(rnn_units, return_sequences=True, kernel_regularizer=l2(l2_reg)))(embeddings)  # Added L2 regularization\n",
        "x = Dropout(dropout_rate)(x)  # Added dropout"
      ],
      "metadata": {
        "id": "wYdBjHV9K46m"
      },
      "execution_count": null,
      "outputs": []
    },
    {
      "cell_type": "code",
      "source": [
        "# Attention layer\n",
        "def scaled_dot_product_attention(queries, keys, values):\n",
        "  \"\"\"Scaled Dot-Product Attention Layer.\"\"\"\n",
        "  scores = tf.matmul(queries, keys, transpose_b=True) / tf.sqrt(tf.cast(tf.shape(keys)[-1], tf.float32))\n",
        "  weights = tf.nn.softmax(scores, axis=-1)\n",
        "  output = tf.matmul(weights, values)\n",
        "  return output"
      ],
      "metadata": {
        "id": "BG4cg0i4YSjQ"
      },
      "execution_count": null,
      "outputs": []
    },
    {
      "cell_type": "code",
      "source": [
        "attention_output = scaled_dot_product_attention(x, x, x)  # Apply attention"
      ],
      "metadata": {
        "id": "hEjrAt3kYVzd"
      },
      "execution_count": null,
      "outputs": []
    },
    {
      "cell_type": "code",
      "source": [
        "# Global average pooling\n",
        "x = GlobalAveragePooling1D()(attention_output)  # Pool after attention"
      ],
      "metadata": {
        "id": "-qKHs8qnYab2"
      },
      "execution_count": null,
      "outputs": []
    },
    {
      "cell_type": "code",
      "source": [
        "# Dense layer for output with sigmoid activation for binary classification\n",
        "outputs = Dense(1, activation='sigmoid')(x)"
      ],
      "metadata": {
        "id": "xwtd9O8ZYedG"
      },
      "execution_count": null,
      "outputs": []
    },
    {
      "cell_type": "code",
      "source": [
        "model = Model(inputs=inputs, outputs=outputs)"
      ],
      "metadata": {
        "id": "mf6oiQolYhYm"
      },
      "execution_count": null,
      "outputs": []
    },
    {
      "cell_type": "code",
      "source": [
        "model.summary()"
      ],
      "metadata": {
        "id": "4mQlbRGgG6Rn",
        "outputId": "f0bbb423-3e77-4591-b1a0-a9db43a54674",
        "colab": {
          "base_uri": "https://localhost:8080/"
        }
      },
      "execution_count": null,
      "outputs": [
        {
          "output_type": "stream",
          "name": "stdout",
          "text": [
            "Model: \"model\"\n",
            "__________________________________________________________________________________________________\n",
            " Layer (type)                Output Shape                 Param #   Connected to                  \n",
            "==================================================================================================\n",
            " input_1 (InputLayer)        [(None, 532)]                0         []                            \n",
            "                                                                                                  \n",
            " embedding (Embedding)       (None, 532, 64)              1341849   ['input_1[0][0]']             \n",
            "                                                          6                                       \n",
            "                                                                                                  \n",
            " bidirectional (Bidirection  (None, 532, 256)             197632    ['embedding[0][0]']           \n",
            " al)                                                                                              \n",
            "                                                                                                  \n",
            " dropout (Dropout)           (None, 532, 256)             0         ['bidirectional[0][0]']       \n",
            "                                                                                                  \n",
            " tf.compat.v1.shape (TFOpLa  (3,)                         0         ['dropout[0][0]']             \n",
            " mbda)                                                                                            \n",
            "                                                                                                  \n",
            " tf.__operators__.getitem (  ()                           0         ['tf.compat.v1.shape[0][0]']  \n",
            " SlicingOpLambda)                                                                                 \n",
            "                                                                                                  \n",
            " tf.cast (TFOpLambda)        ()                           0         ['tf.__operators__.getitem[0][\n",
            "                                                                    0]']                          \n",
            "                                                                                                  \n",
            " tf.linalg.matmul (TFOpLamb  (None, 532, 532)             0         ['dropout[0][0]',             \n",
            " da)                                                                 'dropout[0][0]']             \n",
            "                                                                                                  \n",
            " tf.math.sqrt (TFOpLambda)   ()                           0         ['tf.cast[0][0]']             \n",
            "                                                                                                  \n",
            " tf.math.truediv (TFOpLambd  (None, 532, 532)             0         ['tf.linalg.matmul[0][0]',    \n",
            " a)                                                                  'tf.math.sqrt[0][0]']        \n",
            "                                                                                                  \n",
            " tf.nn.softmax (TFOpLambda)  (None, 532, 532)             0         ['tf.math.truediv[0][0]']     \n",
            "                                                                                                  \n",
            " tf.linalg.matmul_1 (TFOpLa  (None, 532, 256)             0         ['tf.nn.softmax[0][0]',       \n",
            " mbda)                                                               'dropout[0][0]']             \n",
            "                                                                                                  \n",
            " global_average_pooling1d (  (None, 256)                  0         ['tf.linalg.matmul_1[0][0]']  \n",
            " GlobalAveragePooling1D)                                                                          \n",
            "                                                                                                  \n",
            " dense (Dense)               (None, 1)                    257       ['global_average_pooling1d[0][\n",
            "                                                                    0]']                          \n",
            "                                                                                                  \n",
            "==================================================================================================\n",
            "Total params: 13616385 (51.94 MB)\n",
            "Trainable params: 13616385 (51.94 MB)\n",
            "Non-trainable params: 0 (0.00 Byte)\n",
            "__________________________________________________________________________________________________\n"
          ]
        }
      ]
    },
    {
      "cell_type": "code",
      "source": [
        "# Compile the model\n",
        "model.compile(\n",
        "    optimizer=Adam(learning_rate=learning_rate),\n",
        "    loss=BinaryCrossentropy(),\n",
        "    metrics=[BinaryAccuracy()]\n",
        ")"
      ],
      "metadata": {
        "id": "bNOqtViVYk2P"
      },
      "execution_count": null,
      "outputs": []
    },
    {
      "cell_type": "code",
      "source": [
        "# Train the Model\n",
        "early_stopping = EarlyStopping(monitor='val_binary_accuracy', patience=8)\n"
      ],
      "metadata": {
        "id": "1K3ugYp6YsEd"
      },
      "execution_count": null,
      "outputs": []
    },
    {
      "cell_type": "code",
      "source": [
        "# Fit the model\n",
        "history = model.fit(\n",
        "    X_train, y_train,\n",
        "    epochs=100,\n",
        "    validation_data=(X_val, y_val),\n",
        "    batch_size=batch_size,\n",
        "    callbacks=[early_stopping]\n",
        ")"
      ],
      "metadata": {
        "id": "0CIMOqabfRWz",
        "outputId": "b7d89584-361f-45c4-ee2d-003d0a1c21bf",
        "colab": {
          "base_uri": "https://localhost:8080/"
        }
      },
      "execution_count": null,
      "outputs": [
        {
          "output_type": "stream",
          "name": "stdout",
          "text": [
            "Epoch 1/100\n",
            "1007/1007 [==============================] - 164s 156ms/step - loss: 1.0140 - binary_accuracy: 0.8852 - val_loss: 0.2803 - val_binary_accuracy: 0.9721\n",
            "Epoch 2/100\n",
            "1007/1007 [==============================] - 92s 91ms/step - loss: 0.1855 - binary_accuracy: 0.9775 - val_loss: 0.1332 - val_binary_accuracy: 0.9828\n",
            "Epoch 3/100\n",
            "1007/1007 [==============================] - 77s 77ms/step - loss: 0.1224 - binary_accuracy: 0.9755 - val_loss: 0.1977 - val_binary_accuracy: 0.9653\n",
            "Epoch 4/100\n",
            "1007/1007 [==============================] - 68s 67ms/step - loss: 0.1256 - binary_accuracy: 0.9748 - val_loss: 0.1308 - val_binary_accuracy: 0.9767\n",
            "Epoch 5/100\n",
            "1007/1007 [==============================] - 63s 62ms/step - loss: 0.0870 - binary_accuracy: 0.9875 - val_loss: 0.1075 - val_binary_accuracy: 0.9821\n",
            "Epoch 6/100\n",
            "1007/1007 [==============================] - 62s 61ms/step - loss: 0.1541 - binary_accuracy: 0.9385 - val_loss: 0.1301 - val_binary_accuracy: 0.9428\n",
            "Epoch 7/100\n",
            "1007/1007 [==============================] - 64s 64ms/step - loss: 0.0939 - binary_accuracy: 0.9624 - val_loss: 0.1196 - val_binary_accuracy: 0.9630\n",
            "Epoch 8/100\n",
            "1007/1007 [==============================] - 60s 59ms/step - loss: 0.0811 - binary_accuracy: 0.9753 - val_loss: 0.1008 - val_binary_accuracy: 0.9676\n",
            "Epoch 9/100\n",
            "1007/1007 [==============================] - 59s 58ms/step - loss: 0.0913 - binary_accuracy: 0.9792 - val_loss: 0.0880 - val_binary_accuracy: 0.9768\n",
            "Epoch 10/100\n",
            "1007/1007 [==============================] - 58s 57ms/step - loss: 0.0521 - binary_accuracy: 0.9897 - val_loss: 0.0724 - val_binary_accuracy: 0.9837\n",
            "Epoch 11/100\n",
            "1007/1007 [==============================] - 58s 58ms/step - loss: 0.0448 - binary_accuracy: 0.9924 - val_loss: 0.1035 - val_binary_accuracy: 0.9767\n",
            "Epoch 12/100\n",
            "1007/1007 [==============================] - 61s 61ms/step - loss: 0.0490 - binary_accuracy: 0.9919 - val_loss: 0.0930 - val_binary_accuracy: 0.9823\n",
            "Epoch 13/100\n",
            "1007/1007 [==============================] - 58s 58ms/step - loss: 0.0382 - binary_accuracy: 0.9929 - val_loss: 0.0740 - val_binary_accuracy: 0.9841\n",
            "Epoch 14/100\n",
            "1007/1007 [==============================] - 57s 56ms/step - loss: 0.0362 - binary_accuracy: 0.9922 - val_loss: 0.0559 - val_binary_accuracy: 0.9874\n",
            "Epoch 15/100\n",
            "1007/1007 [==============================] - 63s 63ms/step - loss: 0.0315 - binary_accuracy: 0.9946 - val_loss: 0.0552 - val_binary_accuracy: 0.9899\n",
            "Epoch 16/100\n",
            "1007/1007 [==============================] - 58s 57ms/step - loss: 0.0834 - binary_accuracy: 0.9757 - val_loss: 0.1062 - val_binary_accuracy: 0.9768\n",
            "Epoch 17/100\n",
            "1007/1007 [==============================] - 58s 57ms/step - loss: 0.0824 - binary_accuracy: 0.9805 - val_loss: 0.1060 - val_binary_accuracy: 0.9807\n",
            "Epoch 18/100\n",
            "1007/1007 [==============================] - 61s 61ms/step - loss: 0.0641 - binary_accuracy: 0.9852 - val_loss: 0.1033 - val_binary_accuracy: 0.9829\n",
            "Epoch 19/100\n",
            "1007/1007 [==============================] - 62s 61ms/step - loss: 0.0577 - binary_accuracy: 0.9870 - val_loss: 0.0967 - val_binary_accuracy: 0.9863\n",
            "Epoch 20/100\n",
            "1007/1007 [==============================] - 62s 61ms/step - loss: 0.0527 - binary_accuracy: 0.9897 - val_loss: 0.0823 - val_binary_accuracy: 0.9852\n",
            "Epoch 21/100\n",
            "1007/1007 [==============================] - 62s 62ms/step - loss: 0.0617 - binary_accuracy: 0.9871 - val_loss: 0.0918 - val_binary_accuracy: 0.9839\n",
            "Epoch 22/100\n",
            "1007/1007 [==============================] - 63s 63ms/step - loss: 0.0585 - binary_accuracy: 0.9881 - val_loss: 0.1033 - val_binary_accuracy: 0.9829\n",
            "Epoch 23/100\n",
            "1007/1007 [==============================] - 62s 61ms/step - loss: 0.0930 - binary_accuracy: 0.9789 - val_loss: 0.1048 - val_binary_accuracy: 0.9797\n"
          ]
        }
      ]
    },
    {
      "cell_type": "code",
      "source": [
        "# Evaluate the model on the test set\n",
        "loss, accuracy = model.evaluate(X_test, y_test, batch_size=batch_size)\n",
        "print('Test loss:', loss, 'Test accuracy:', accuracy)"
      ],
      "metadata": {
        "colab": {
          "base_uri": "https://localhost:8080/"
        },
        "id": "8hCzr7UEcC06",
        "outputId": "f804cf2d-cfcc-41a4-b34f-e32ad74bcab0"
      },
      "execution_count": null,
      "outputs": [
        {
          "output_type": "stream",
          "name": "stdout",
          "text": [
            "336/336 [==============================] - 6s 19ms/step - loss: 0.1041 - binary_accuracy: 0.9794\n",
            "Test loss: 0.10407725721597672 Test accuracy: 0.979411244392395\n"
          ]
        }
      ]
    },
    {
      "cell_type": "code",
      "source": [
        "# Get model predictions on the test data\n",
        "y_pred = model.predict(X_test)\n",
        "y_pred = np.round(y_pred).astype(int)  # Round and convert to int for binary classification"
      ],
      "metadata": {
        "colab": {
          "base_uri": "https://localhost:8080/"
        },
        "id": "SNKsrm7hc5gu",
        "outputId": "12376762-ca36-4f65-de36-5479bae35294"
      },
      "execution_count": null,
      "outputs": [
        {
          "output_type": "stream",
          "name": "stdout",
          "text": [
            "336/336 [==============================] - 6s 17ms/step\n"
          ]
        }
      ]
    },
    {
      "cell_type": "code",
      "source": [
        "from sklearn.metrics import confusion_matrix\n",
        "# Confusion Matrix\n",
        "cm = confusion_matrix(y_test, y_pred)\n",
        "print('Confusion Matrix:')\n",
        "print(cm)"
      ],
      "metadata": {
        "colab": {
          "base_uri": "https://localhost:8080/"
        },
        "id": "Z84pNxJ9Af3L",
        "outputId": "ea2451cf-320b-4867-a2b8-d5bd6a805a2b"
      },
      "execution_count": null,
      "outputs": [
        {
          "output_type": "stream",
          "name": "stdout",
          "text": [
            "Confusion Matrix:\n",
            "[[4576  203]\n",
            " [  18 5937]]\n"
          ]
        }
      ]
    },
    {
      "cell_type": "code",
      "source": [
        "import seaborn as sns\n",
        "import matplotlib.pyplot as plt\n",
        "\n",
        "plt.figure(figsize=(8,6))\n",
        "sns.heatmap(cm, annot=True, fmt='d')\n",
        "plt.xlabel('Predicted Label')\n",
        "plt.ylabel('True Label')\n",
        "plt.show()"
      ],
      "metadata": {
        "colab": {
          "base_uri": "https://localhost:8080/",
          "height": 542
        },
        "id": "ZvQON5i-AklA",
        "outputId": "c4ca53f8-3689-498c-f2e0-243fe97f31e7"
      },
      "execution_count": null,
      "outputs": [
        {
          "output_type": "display_data",
          "data": {
            "text/plain": [
              "<Figure size 800x600 with 2 Axes>"
            ],
            "image/png": "[encoded data removed]"
          },
          "metadata": {}
        }
      ]
    },
    {
      "cell_type": "code",
      "source": [
        "# Calculate metrics\n",
        "from sklearn.metrics import precision_score, recall_score, f1_score\n",
        "\n",
        "precision = precision_score(y_test, y_pred)\n",
        "recall = recall_score(y_test, y_pred)\n",
        "f1 = f1_score(y_test, y_pred)\n",
        "\n",
        "print(f'Precision: {precision}')\n",
        "print(f'Recall: {recall}')\n",
        "print(f'F1 Score: {f1}')"
      ],
      "metadata": {
        "colab": {
          "base_uri": "https://localhost:8080/"
        },
        "id": "mvkfAQMcdPL9",
        "outputId": "f94c6957-337c-4f01-f4a9-c385d713273c"
      },
      "execution_count": null,
      "outputs": [
        {
          "output_type": "stream",
          "name": "stdout",
          "text": [
            "Precision: 0.9669381107491857\n",
            "Recall: 0.996977329974811\n",
            "F1 Score: 0.9817279867713932\n"
          ]
        }
      ]
    },
    {
      "cell_type": "code",
      "source": [
        "# Check the shape of X_test\n",
        "print(f\"Shape of X_test: {X_test.shape}\")\n",
        "\n",
        "# Generate predictions\n",
        "y_pred = model.predict(X_test)\n",
        "\n",
        "# Check the shape of y_pred\n",
        "print(f\"Shape of y_pred: {y_pred.shape}\")\n"
      ],
      "metadata": {
        "colab": {
          "base_uri": "https://localhost:8080/"
        },
        "id": "l-fjgnfz9KoI",
        "outputId": "8fb85a3a-09d2-4d0f-c409-27deb61c09d2"
      },
      "execution_count": null,
      "outputs": [
        {
          "output_type": "stream",
          "name": "stdout",
          "text": [
            "Shape of X_test: (10734, 532)\n",
            "336/336 [==============================] - 6s 17ms/step\n",
            "Shape of y_pred: (10734, 1)\n"
          ]
        }
      ]
    },
    {
      "cell_type": "code",
      "source": [
        "# Flatten y_pred to have the same shape as y_test\n",
        "y_pred = y_pred.flatten()"
      ],
      "metadata": {
        "id": "MpGOmwwC-aXJ"
      },
      "execution_count": null,
      "outputs": []
    },
    {
      "cell_type": "code",
      "source": [
        "y_pred.size"
      ],
      "metadata": {
        "colab": {
          "base_uri": "https://localhost:8080/"
        },
        "id": "ccY54qAj-eQ-",
        "outputId": "9f4255c7-6584-4290-fadd-e7f8857ebf81"
      },
      "execution_count": null,
      "outputs": [
        {
          "output_type": "execute_result",
          "data": {
            "text/plain": [
              "10734"
            ]
          },
          "metadata": {},
          "execution_count": 48
        }
      ]
    },
    {
      "cell_type": "code",
      "source": [
        "from sklearn.metrics import roc_auc_score\n",
        "# Calculate AUC\n",
        "auc = roc_auc_score(y_test, y_pred)\n",
        "print(f\"AUC: {auc}\")"
      ],
      "metadata": {
        "colab": {
          "base_uri": "https://localhost:8080/"
        },
        "id": "zLbbthj9-kCg",
        "outputId": "db3d6135-3b78-4676-8e92-467a971cdfaa"
      },
      "execution_count": null,
      "outputs": [
        {
          "output_type": "stream",
          "name": "stdout",
          "text": [
            "AUC: 0.9972517428175922\n"
          ]
        }
      ]
    },
    {
      "cell_type": "code",
      "source": [
        "# Plot training & validation accuracy values (assuming history object exists)\n",
        "import matplotlib.pyplot as plt\n",
        "\n",
        "plt.figure(figsize=(12, 4))\n",
        "plt.subplot(1, 2, 1)\n",
        "plt.plot(history.history['binary_accuracy'])\n",
        "plt.plot(history.history['val_binary_accuracy'])\n",
        "plt.title('Model accuracy')\n",
        "plt.ylabel('Accuracy')\n",
        "plt.xlabel('Epoch')\n",
        "plt.legend(['Train', 'Validation'], loc='upper left')\n",
        "\n",
        "# Plot training & validation loss values\n",
        "plt.subplot(1, 2, 2)\n",
        "plt.plot(history.history['loss'])\n",
        "plt.plot(history.history['val_loss'])\n",
        "plt.title('Model loss')\n",
        "plt.ylabel('Loss')\n",
        "plt.xlabel('Epoch')\n",
        "plt.legend(['Train', 'Validation'], loc='upper left')\n",
        "\n",
        "plt.tight_layout()\n",
        "plt.show()\n"
      ],
      "metadata": {
        "id": "lfGboxfldX4M",
        "colab": {
          "base_uri": "https://localhost:8080/",
          "height": 396
        },
        "outputId": "86f951ff-c0ff-47b7-bbdb-7eb5c5c58645"
      },
      "execution_count": null,
      "outputs": [
        {
          "output_type": "display_data",
          "data": {
            "text/plain": [
              "<Figure size 1200x400 with 2 Axes>"
            ],
            "image/png": "[encoded data removed]"
          },
          "metadata": {}
        }
      ]
    },
    {
      "cell_type": "markdown",
      "source": [
        "# Ablation Study in terms of Hyperparameter Sensitivity and Regularization Impact"
      ],
      "metadata": {
        "id": "5kb03n5roQF0"
      }
    },
    {
      "cell_type": "code",
      "source": [
        "import tensorflow as tf\n",
        "import numpy as np\n",
        "from tensorflow.keras.layers import Input, Embedding, Bidirectional, LSTM, GlobalAveragePooling1D, Dense\n",
        "from tensorflow.keras.models import Model\n",
        "from tensorflow.keras.optimizers import Adam\n",
        "from tensorflow.keras.losses import BinaryCrossentropy\n",
        "from tensorflow.keras.metrics import Accuracy\n",
        "from tensorflow.keras.callbacks import EarlyStopping\n",
        "from tensorflow.keras.metrics import BinaryAccuracy\n",
        "from tensorflow.keras.layers import Dropout\n",
        "from tensorflow.keras.regularizers import l2"
      ],
      "metadata": {
        "id": "4c7Eu7IaU4b9"
      },
      "execution_count": null,
      "outputs": []
    },
    {
      "cell_type": "code",
      "source": [
        "# Get the processed data from Data Processing Step\n",
        "X_train, X_val, X_test, y_train, y_val, y_test, vocab_size = processed_data"
      ],
      "metadata": {
        "id": "y10Wfu6rU8Gl"
      },
      "execution_count": null,
      "outputs": []
    },
    {
      "cell_type": "code",
      "source": [
        "# Define the model\n",
        "embed_dim = 128  # Embedding dimension\n",
        "rnn_units = 256 # Number of units in LSTM layers\n",
        "batch_size = 16  # Batch size for training\n",
        "learning_rate = 0.0001  # Learning rate"
      ],
      "metadata": {
        "id": "01fB7B5MoWwm"
      },
      "execution_count": null,
      "outputs": []
    },
    {
      "cell_type": "code",
      "source": [
        "inputs = Input(shape=(max_len_95_percent,), dtype=tf.int32)"
      ],
      "metadata": {
        "id": "3SSZGkgjoZvw"
      },
      "execution_count": null,
      "outputs": []
    },
    {
      "cell_type": "code",
      "source": [
        "# Embedding layer to convert word indices to vectors\n",
        "embeddings = Embedding(vocab_size, embed_dim)(inputs)"
      ],
      "metadata": {
        "id": "dSGbJ6okob8I"
      },
      "execution_count": null,
      "outputs": []
    },
    {
      "cell_type": "code",
      "source": [
        "# Bi-directional LSTM layer for processing sequences (without Regularization and Dropout)\n",
        "x = Bidirectional(LSTM(rnn_units, return_sequences=True))(embeddings)"
      ],
      "metadata": {
        "id": "YZ8vc8LmoeRE"
      },
      "execution_count": null,
      "outputs": []
    },
    {
      "cell_type": "code",
      "source": [
        "# 7. Attention layer\n",
        "def scaled_dot_product_attention(queries, keys, values):\n",
        "  \"\"\"Scaled Dot-Product Attention Layer.\"\"\"\n",
        "  scores = tf.matmul(queries, keys, transpose_b=True) / tf.sqrt(tf.cast(tf.shape(keys)[-1], tf.float32))\n",
        "  weights = tf.nn.softmax(scores, axis=-1)\n",
        "  output = tf.matmul(weights, values)\n",
        "  return output"
      ],
      "metadata": {
        "id": "nrTKVpsMogj8"
      },
      "execution_count": null,
      "outputs": []
    },
    {
      "cell_type": "code",
      "source": [
        "attention_output = scaled_dot_product_attention(x, x, x)  # Apply attention"
      ],
      "metadata": {
        "id": "LQnM7N4FojOy"
      },
      "execution_count": null,
      "outputs": []
    },
    {
      "cell_type": "code",
      "source": [
        "# Global average pooling\n",
        "x = GlobalAveragePooling1D()(attention_output)"
      ],
      "metadata": {
        "id": "9vaRYdhuolfl"
      },
      "execution_count": null,
      "outputs": []
    },
    {
      "cell_type": "code",
      "source": [
        "# Dense layer for output with sigmoid activation for binary classification\n",
        "outputs = Dense(1, activation='sigmoid')(x)"
      ],
      "metadata": {
        "id": "dbKX4pDlon36"
      },
      "execution_count": null,
      "outputs": []
    },
    {
      "cell_type": "code",
      "source": [
        "model = Model(inputs=inputs, outputs=outputs)"
      ],
      "metadata": {
        "id": "aunZy5sloqga"
      },
      "execution_count": null,
      "outputs": []
    },
    {
      "cell_type": "code",
      "source": [
        "model.summary()"
      ],
      "metadata": {
        "id": "S8B-6X08osrO",
        "colab": {
          "base_uri": "https://localhost:8080/"
        },
        "outputId": "dd8c52a8-5de0-4e88-f13f-a63013d6d935"
      },
      "execution_count": null,
      "outputs": [
        {
          "output_type": "stream",
          "name": "stdout",
          "text": [
            "Model: \"model\"\n",
            "__________________________________________________________________________________________________\n",
            " Layer (type)                Output Shape                 Param #   Connected to                  \n",
            "==================================================================================================\n",
            " input_1 (InputLayer)        [(None, 532)]                0         []                            \n",
            "                                                                                                  \n",
            " embedding (Embedding)       (None, 532, 128)             2683699   ['input_1[0][0]']             \n",
            "                                                          2                                       \n",
            "                                                                                                  \n",
            " bidirectional (Bidirection  (None, 532, 512)             788480    ['embedding[0][0]']           \n",
            " al)                                                                                              \n",
            "                                                                                                  \n",
            " tf.compat.v1.shape (TFOpLa  (3,)                         0         ['bidirectional[0][0]']       \n",
            " mbda)                                                                                            \n",
            "                                                                                                  \n",
            " tf.__operators__.getitem (  ()                           0         ['tf.compat.v1.shape[0][0]']  \n",
            " SlicingOpLambda)                                                                                 \n",
            "                                                                                                  \n",
            " tf.cast (TFOpLambda)        ()                           0         ['tf.__operators__.getitem[0][\n",
            "                                                                    0]']                          \n",
            "                                                                                                  \n",
            " tf.linalg.matmul (TFOpLamb  (None, 532, 532)             0         ['bidirectional[0][0]',       \n",
            " da)                                                                 'bidirectional[0][0]']       \n",
            "                                                                                                  \n",
            " tf.math.sqrt (TFOpLambda)   ()                           0         ['tf.cast[0][0]']             \n",
            "                                                                                                  \n",
            " tf.math.truediv (TFOpLambd  (None, 532, 532)             0         ['tf.linalg.matmul[0][0]',    \n",
            " a)                                                                  'tf.math.sqrt[0][0]']        \n",
            "                                                                                                  \n",
            " tf.nn.softmax (TFOpLambda)  (None, 532, 532)             0         ['tf.math.truediv[0][0]']     \n",
            "                                                                                                  \n",
            " tf.linalg.matmul_1 (TFOpLa  (None, 532, 512)             0         ['tf.nn.softmax[0][0]',       \n",
            " mbda)                                                               'bidirectional[0][0]']       \n",
            "                                                                                                  \n",
            " global_average_pooling1d (  (None, 512)                  0         ['tf.linalg.matmul_1[0][0]']  \n",
            " GlobalAveragePooling1D)                                                                          \n",
            "                                                                                                  \n",
            " dense (Dense)               (None, 1)                    513       ['global_average_pooling1d[0][\n",
            "                                                                    0]']                          \n",
            "                                                                                                  \n",
            "==================================================================================================\n",
            "Total params: 27625985 (105.38 MB)\n",
            "Trainable params: 27625985 (105.38 MB)\n",
            "Non-trainable params: 0 (0.00 Byte)\n",
            "__________________________________________________________________________________________________\n"
          ]
        }
      ]
    },
    {
      "cell_type": "code",
      "source": [
        "# Compile the model\n",
        "model.compile(\n",
        "    optimizer=Adam(learning_rate=learning_rate),\n",
        "    loss=BinaryCrossentropy(),\n",
        "    metrics=[BinaryAccuracy()]\n",
        ")"
      ],
      "metadata": {
        "id": "e-4vroDPpecY"
      },
      "execution_count": null,
      "outputs": []
    },
    {
      "cell_type": "code",
      "source": [
        "# Train the Model\n",
        "early_stopping = EarlyStopping(monitor='val_binary_accuracy', patience=8)"
      ],
      "metadata": {
        "id": "ltc2Rs9HpgxD"
      },
      "execution_count": null,
      "outputs": []
    },
    {
      "cell_type": "code",
      "source": [
        "# Fit the model\n",
        "history = model.fit(\n",
        "    X_train, y_train,\n",
        "    epochs=100,\n",
        "    validation_data=(X_val, y_val),\n",
        "    batch_size=batch_size,\n",
        "    callbacks=[early_stopping]\n",
        ")"
      ],
      "metadata": {
        "id": "JkwaFoNrpjpt",
        "colab": {
          "base_uri": "https://localhost:8080/"
        },
        "outputId": "68cdb29e-dbaf-4f0e-b797-0b177050b614"
      },
      "execution_count": null,
      "outputs": [
        {
          "output_type": "stream",
          "name": "stdout",
          "text": [
            "Epoch 1/100\n",
            "2013/2013 [==============================] - 218s 105ms/step - loss: 0.1702 - binary_accuracy: 0.9322 - val_loss: 0.0703 - val_binary_accuracy: 0.9802\n",
            "Epoch 2/100\n",
            "2013/2013 [==============================] - 154s 76ms/step - loss: 0.0519 - binary_accuracy: 0.9842 - val_loss: 0.0742 - val_binary_accuracy: 0.9754\n",
            "Epoch 3/100\n",
            "2013/2013 [==============================] - 152s 75ms/step - loss: 0.0492 - binary_accuracy: 0.9843 - val_loss: 0.0698 - val_binary_accuracy: 0.9748\n",
            "Epoch 4/100\n",
            "2013/2013 [==============================] - 150s 75ms/step - loss: 0.0484 - binary_accuracy: 0.9828 - val_loss: 0.0577 - val_binary_accuracy: 0.9828\n",
            "Epoch 5/100\n",
            "2013/2013 [==============================] - 144s 71ms/step - loss: 0.0302 - binary_accuracy: 0.9934 - val_loss: 0.0420 - val_binary_accuracy: 0.9905\n",
            "Epoch 6/100\n",
            "2013/2013 [==============================] - 149s 74ms/step - loss: 0.0219 - binary_accuracy: 0.9949 - val_loss: 0.0531 - val_binary_accuracy: 0.9851\n",
            "Epoch 7/100\n",
            "2013/2013 [==============================] - 148s 74ms/step - loss: 0.0174 - binary_accuracy: 0.9964 - val_loss: 0.0537 - val_binary_accuracy: 0.9888\n",
            "Epoch 8/100\n",
            "2013/2013 [==============================] - 148s 74ms/step - loss: 0.0361 - binary_accuracy: 0.9917 - val_loss: 0.0552 - val_binary_accuracy: 0.9915\n",
            "Epoch 9/100\n",
            "2013/2013 [==============================] - 148s 73ms/step - loss: 0.0154 - binary_accuracy: 0.9973 - val_loss: 0.0419 - val_binary_accuracy: 0.9928\n",
            "Epoch 10/100\n",
            "2013/2013 [==============================] - 149s 74ms/step - loss: 0.0168 - binary_accuracy: 0.9962 - val_loss: 0.0487 - val_binary_accuracy: 0.9900\n",
            "Epoch 11/100\n",
            "2013/2013 [==============================] - 144s 71ms/step - loss: 0.0107 - binary_accuracy: 0.9978 - val_loss: 0.0475 - val_binary_accuracy: 0.9923\n",
            "Epoch 12/100\n",
            "2013/2013 [==============================] - 148s 73ms/step - loss: 0.0091 - binary_accuracy: 0.9986 - val_loss: 0.0397 - val_binary_accuracy: 0.9927\n",
            "Epoch 13/100\n",
            "2013/2013 [==============================] - 147s 73ms/step - loss: 0.0090 - binary_accuracy: 0.9984 - val_loss: 0.0498 - val_binary_accuracy: 0.9893\n",
            "Epoch 14/100\n",
            "2013/2013 [==============================] - 147s 73ms/step - loss: 0.0141 - binary_accuracy: 0.9961 - val_loss: 0.0600 - val_binary_accuracy: 0.9904\n",
            "Epoch 15/100\n",
            "2013/2013 [==============================] - 147s 73ms/step - loss: 0.0206 - binary_accuracy: 0.9930 - val_loss: 0.0561 - val_binary_accuracy: 0.9904\n",
            "Epoch 16/100\n",
            "2013/2013 [==============================] - 148s 73ms/step - loss: 0.0251 - binary_accuracy: 0.9935 - val_loss: 0.0404 - val_binary_accuracy: 0.9900\n",
            "Epoch 17/100\n",
            "2013/2013 [==============================] - 143s 71ms/step - loss: 0.0174 - binary_accuracy: 0.9952 - val_loss: 0.0409 - val_binary_accuracy: 0.9887\n"
          ]
        }
      ]
    },
    {
      "cell_type": "code",
      "source": [
        "# Evaluate the model on the test set\n",
        "loss, accuracy = model.evaluate(X_test, y_test, batch_size=batch_size)\n",
        "print('Test loss:', loss, 'Test accuracy:', accuracy)"
      ],
      "metadata": {
        "id": "sCuAoKQappW0",
        "colab": {
          "base_uri": "https://localhost:8080/"
        },
        "outputId": "1a11fdbb-77ba-484f-e66c-15600868ee4c"
      },
      "execution_count": null,
      "outputs": [
        {
          "output_type": "stream",
          "name": "stdout",
          "text": [
            "671/671 [==============================] - 17s 25ms/step - loss: 0.0368 - binary_accuracy: 0.9901\n",
            "Test loss: 0.036816515028476715 Test accuracy: 0.9901248216629028\n"
          ]
        }
      ]
    },
    {
      "cell_type": "code",
      "source": [
        "# Get model predictions on the test data\n",
        "y_pred = model.predict(X_test)\n",
        "y_pred = np.round(y_pred).astype(int)  # Round and convert to int for binary classification"
      ],
      "metadata": {
        "id": "GZqr3Ixpps-1",
        "colab": {
          "base_uri": "https://localhost:8080/"
        },
        "outputId": "f078e587-6e01-42eb-9a7a-15d6ab8716a4"
      },
      "execution_count": null,
      "outputs": [
        {
          "output_type": "stream",
          "name": "stdout",
          "text": [
            "336/336 [==============================] - 11s 30ms/step\n"
          ]
        }
      ]
    },
    {
      "cell_type": "code",
      "source": [
        "from sklearn.metrics import confusion_matrix\n",
        "# Confusion Matrix\n",
        "cm = confusion_matrix(y_test, y_pred)\n",
        "print('Confusion Matrix:')\n",
        "print(cm)"
      ],
      "metadata": {
        "id": "5oV72bHFpwBH",
        "colab": {
          "base_uri": "https://localhost:8080/"
        },
        "outputId": "84c47d37-3c1d-4fbd-b6f0-4e4f9d595861"
      },
      "execution_count": null,
      "outputs": [
        {
          "output_type": "stream",
          "name": "stdout",
          "text": [
            "Confusion Matrix:\n",
            "[[4689   90]\n",
            " [  16 5939]]\n"
          ]
        }
      ]
    },
    {
      "cell_type": "code",
      "source": [
        "import seaborn as sns\n",
        "import matplotlib.pyplot as plt\n",
        "\n",
        "plt.figure(figsize=(8,6))\n",
        "sns.heatmap(cm, annot=True, fmt='d')\n",
        "plt.xlabel('Predicted Label')\n",
        "plt.ylabel('True Label')\n",
        "plt.show()"
      ],
      "metadata": {
        "id": "bZWvjVCMpzIU",
        "colab": {
          "base_uri": "https://localhost:8080/",
          "height": 542
        },
        "outputId": "b1c2c738-1fdc-48f1-9ebd-04b9709c697b"
      },
      "execution_count": null,
      "outputs": [
        {
          "output_type": "display_data",
          "data": {
            "text/plain": [
              "<Figure size 800x600 with 2 Axes>"
            ],
            "image/png": "[encoded data removed]"
          },
          "metadata": {}
        }
      ]
    },
    {
      "cell_type": "code",
      "source": [
        "# Calculate metrics\n",
        "from sklearn.metrics import precision_score, recall_score, f1_score\n",
        "\n",
        "precision = precision_score(y_test, y_pred)\n",
        "recall = recall_score(y_test, y_pred)\n",
        "f1 = f1_score(y_test, y_pred)\n",
        "\n",
        "print(f'Precision: {precision}')\n",
        "print(f'Recall: {recall}')\n",
        "print(f'F1 Score: {f1}')"
      ],
      "metadata": {
        "id": "8ybNkoScp2oi",
        "colab": {
          "base_uri": "https://localhost:8080/"
        },
        "outputId": "6b89ac6c-b94a-4f25-c595-c09c6946ca10"
      },
      "execution_count": null,
      "outputs": [
        {
          "output_type": "stream",
          "name": "stdout",
          "text": [
            "Precision: 0.9850721512688672\n",
            "Recall: 0.9973131821998321\n",
            "F1 Score: 0.991154873164219\n"
          ]
        }
      ]
    },
    {
      "cell_type": "code",
      "source": [
        "# Check the shape of X_test\n",
        "print(f\"Shape of X_test: {X_test.shape}\")\n",
        "\n",
        "# Generate predictions\n",
        "y_pred = model.predict(X_test)\n",
        "\n",
        "# Check the shape of y_pred\n",
        "print(f\"Shape of y_pred: {y_pred.shape}\")"
      ],
      "metadata": {
        "id": "dBixyYuKp6Vx",
        "colab": {
          "base_uri": "https://localhost:8080/"
        },
        "outputId": "367f13bc-5aaf-4b77-a1ac-6588b557a935"
      },
      "execution_count": null,
      "outputs": [
        {
          "output_type": "stream",
          "name": "stdout",
          "text": [
            "Shape of X_test: (10734, 532)\n",
            "336/336 [==============================] - 10s 30ms/step\n",
            "Shape of y_pred: (10734, 1)\n"
          ]
        }
      ]
    },
    {
      "cell_type": "code",
      "source": [
        "# Flatten y_pred to have the same shape as y_test\n",
        "y_pred = y_pred.flatten()"
      ],
      "metadata": {
        "id": "CJ0b3sbUp9hb"
      },
      "execution_count": null,
      "outputs": []
    },
    {
      "cell_type": "code",
      "source": [
        "y_pred.size"
      ],
      "metadata": {
        "id": "tMbU9WFJp_o5"
      },
      "execution_count": null,
      "outputs": []
    },
    {
      "cell_type": "code",
      "source": [
        "from sklearn.metrics import roc_auc_score\n",
        "# Calculate AUC\n",
        "auc = roc_auc_score(y_test, y_pred)\n",
        "print(f\"AUC: {auc}\")"
      ],
      "metadata": {
        "id": "-4z5Ig1eqCTa",
        "colab": {
          "base_uri": "https://localhost:8080/"
        },
        "outputId": "9aa74dda-fde7-45b6-9bf2-df715bc1672b"
      },
      "execution_count": null,
      "outputs": [
        {
          "output_type": "stream",
          "name": "stdout",
          "text": [
            "AUC: 0.9987633062293771\n"
          ]
        }
      ]
    },
    {
      "cell_type": "code",
      "source": [
        "# Plot training & validation accuracy values\n",
        "import matplotlib.pyplot as plt\n",
        "\n",
        "plt.figure(figsize=(12, 4))\n",
        "plt.subplot(1, 2, 1)\n",
        "plt.plot(history.history['binary_accuracy'])\n",
        "plt.plot(history.history['val_binary_accuracy'])\n",
        "plt.title('Model accuracy')\n",
        "plt.ylabel('Accuracy')\n",
        "plt.xlabel('Epoch')\n",
        "plt.legend(['Train', 'Validation'], loc='upper left')\n",
        "\n",
        "# Plot training & validation loss values\n",
        "plt.subplot(1, 2, 2)\n",
        "plt.plot(history.history['loss'])\n",
        "plt.plot(history.history['val_loss'])\n",
        "plt.title('Model loss')\n",
        "plt.ylabel('Loss')\n",
        "plt.xlabel('Epoch')\n",
        "plt.legend(['Train', 'Validation'], loc='upper left')\n",
        "\n",
        "plt.tight_layout()\n",
        "plt.show()"
      ],
      "metadata": {
        "id": "4zcJOiooqFMk",
        "colab": {
          "base_uri": "https://localhost:8080/",
          "height": 396
        },
        "outputId": "5d41be57-3b2d-4a5a-8f73-2d71a5f32796"
      },
      "execution_count": null,
      "outputs": [
        {
          "output_type": "display_data",
          "data": {
            "text/plain": [
              "<Figure size 1200x400 with 2 Axes>"
            ],
            "image/png": "[encoded data removed]"
          },
          "metadata": {}
        }
      ]
    }
  ]
}