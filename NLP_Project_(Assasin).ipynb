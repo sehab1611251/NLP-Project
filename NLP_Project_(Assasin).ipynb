{
  "nbformat": 4,
  "nbformat_minor": 0,
  "metadata": {
    "colab": {
      "provenance": [],
      "gpuType": "T4",
      "include_colab_link": true
    },
    "kernelspec": {
      "name": "python3",
      "display_name": "Python 3"
    },
    "language_info": {
      "name": "python"
    },
    "accelerator": "GPU"
  },
  "cells": [
    {
      "cell_type": "markdown",
      "metadata": {
        "id": "view-in-github",
        "colab_type": "text"
      },
      "source": [
        "<a href=\"https://colab.research.google.com/github/sehab1611251/NLP-Project/blob/main/NLP_Project_(Assasin).ipynb\" target=\"_parent\"><img src=\"https://colab.research.google.com/assets/colab-badge.svg\" alt=\"Open In Colab\"/></a>"
      ]
    },
    {
      "cell_type": "code",
      "execution_count": null,
      "metadata": {
        "id": "rEdnEZvCR6_U"
      },
      "outputs": [],
      "source": [
        "import tensorflow as tf\n",
        "from tensorflow.keras.preprocessing.text import Tokenizer\n",
        "from tensorflow.keras.preprocessing.sequence import pad_sequences\n",
        "from sklearn.model_selection import train_test_split\n",
        "import pandas as pd\n",
        "import nltk\n",
        "from nltk.corpus import stopwords\n",
        "from nltk.tokenize import word_tokenize\n",
        "from nltk.stem import WordNetLemmatizer"
      ]
    },
    {
      "cell_type": "markdown",
      "source": [
        "# Data Processing."
      ],
      "metadata": {
        "id": "WD9sHukpXIEL"
      }
    },
    {
      "cell_type": "code",
      "source": [
        "# Download the set of stop words the first time\n",
        "nltk.download('punkt')\n",
        "nltk.download('stopwords')\n",
        "nltk.download('wordnet') #needed for lemmatization"
      ],
      "metadata": {
        "colab": {
          "base_uri": "https://localhost:8080/"
        },
        "id": "tHmz1p6BWv6C",
        "outputId": "7d389f19-6f95-4673-cbc6-2fc963a8e908"
      },
      "execution_count": null,
      "outputs": [
        {
          "output_type": "stream",
          "name": "stderr",
          "text": [
            "[nltk_data] Downloading package punkt to /root/nltk_data...\n",
            "[nltk_data]   Unzipping tokenizers/punkt.zip.\n",
            "[nltk_data] Downloading package stopwords to /root/nltk_data...\n",
            "[nltk_data]   Unzipping corpora/stopwords.zip.\n",
            "[nltk_data] Downloading package wordnet to /root/nltk_data...\n"
          ]
        },
        {
          "output_type": "execute_result",
          "data": {
            "text/plain": [
              "True"
            ]
          },
          "metadata": {},
          "execution_count": 2
        }
      ]
    },
    {
      "cell_type": "code",
      "source": [
        "# Step 1: Load the dataset\n",
        "data = pd.read_csv('/content/spam_assassin.csv', usecols=['text', 'target'])\n",
        "data.dropna(subset=['text'], inplace=True)  # drop missing value columns (in this dataset we have roughly 30 missing values)"
      ],
      "metadata": {
        "id": "sTbuM581XM9w"
      },
      "execution_count": null,
      "outputs": []
    },
    {
      "cell_type": "code",
      "source": [
        "# Count of data points before filtering\n",
        "total_data_before = len(data)\n",
        "total_data_before"
      ],
      "metadata": {
        "colab": {
          "base_uri": "https://localhost:8080/"
        },
        "id": "LTTPv305bJ3Q",
        "outputId": "faeb601f-86c6-4304-f7be-2c59d29beaa3"
      },
      "execution_count": null,
      "outputs": [
        {
          "output_type": "execute_result",
          "data": {
            "text/plain": [
              "5826"
            ]
          },
          "metadata": {},
          "execution_count": 4
        }
      ]
    },
    {
      "cell_type": "code",
      "source": [
        "# Filter the data\n",
        "data = data[data['target'].isin(['0', '1'])]"
      ],
      "metadata": {
        "id": "h2eHgF3ybSZm"
      },
      "execution_count": null,
      "outputs": []
    },
    {
      "cell_type": "code",
      "source": [
        "# Count of dropped data points\n",
        "dropped_data_count = total_data_before - len(data)"
      ],
      "metadata": {
        "id": "NwYJHA2KXWmq"
      },
      "execution_count": null,
      "outputs": []
    },
    {
      "cell_type": "code",
      "source": [
        "dropped_data_count"
      ],
      "metadata": {
        "colab": {
          "base_uri": "https://localhost:8080/"
        },
        "id": "gxb387feXOwE",
        "outputId": "eefadd11-0a54-4b27-ac1f-de77719c7272"
      },
      "execution_count": null,
      "outputs": [
        {
          "output_type": "execute_result",
          "data": {
            "text/plain": [
              "39"
            ]
          },
          "metadata": {},
          "execution_count": 7
        }
      ]
    },
    {
      "cell_type": "code",
      "source": [
        "# Get the list of stop words in English\n",
        "stop_words = set(stopwords.words('english'))"
      ],
      "metadata": {
        "id": "Vz5yaMbUWzWF"
      },
      "execution_count": null,
      "outputs": []
    },
    {
      "cell_type": "code",
      "source": [
        "# Initialize the lemmatizer\n",
        "lemmatizer = WordNetLemmatizer()"
      ],
      "metadata": {
        "id": "NtHUXy5Tbwpt"
      },
      "execution_count": null,
      "outputs": []
    },
    {
      "cell_type": "code",
      "source": [
        "data"
      ],
      "metadata": {
        "colab": {
          "base_uri": "https://localhost:8080/",
          "height": 424
        },
        "id": "9eq6F5hUUNn3",
        "outputId": "53513f3b-c5ef-4b7b-ab16-553bcf0631ac"
      },
      "execution_count": null,
      "outputs": [
        {
          "output_type": "execute_result",
          "data": {
            "text/plain": [
              "                                                   text target\n",
              "0     From ilug-admin@linux.ie Mon Jul 29 11:28:02 2...      0\n",
              "1     From gort44@excite.com Mon Jun 24 17:54:21 200...      1\n",
              "2     From fork-admin@xent.com Mon Jul 29 11:39:57 2...      1\n",
              "3     From dcm123@btamail.net.cn Mon Jun 24 17:49:23...      1\n",
              "4     From ilug-admin@linux.ie Mon Aug 19 11:02:47 2...      0\n",
              "...                                                 ...    ...\n",
              "5851  From ilug-admin@linux.ie Mon Jul 22 18:12:45 2...      0\n",
              "5852  From fork-admin@xent.com Mon Oct 7 20:37:02 20...      0\n",
              "5853  Received: from hq.pro-ns.net (localhost [127.0...      1\n",
              "5854  From razor-users-admin@lists.sourceforge.net T...      0\n",
              "5855  From rssfeeds@jmason.org Mon Sep 30 13:44:10 2...      0\n",
              "\n",
              "[5787 rows x 2 columns]"
            ],
            "text/html": [
              "\n",
              "  <div id=\"df-7250f063-4de9-4aee-86e6-b8e1e4cf53cf\" class=\"colab-df-container\">\n",
              "    <div>\n",
              "<style scoped>\n",
              "    .dataframe tbody tr th:only-of-type {\n",
              "        vertical-align: middle;\n",
              "    }\n",
              "\n",
              "    .dataframe tbody tr th {\n",
              "        vertical-align: top;\n",
              "    }\n",
              "\n",
              "    .dataframe thead th {\n",
              "        text-align: right;\n",
              "    }\n",
              "</style>\n",
              "<table border=\"1\" class=\"dataframe\">\n",
              "  <thead>\n",
              "    <tr style=\"text-align: right;\">\n",
              "      <th></th>\n",
              "      <th>text</th>\n",
              "      <th>target</th>\n",
              "    </tr>\n",
              "  </thead>\n",
              "  <tbody>\n",
              "    <tr>\n",
              "      <th>0</th>\n",
              "      <td>From ilug-admin@linux.ie Mon Jul 29 11:28:02 2...</td>\n",
              "      <td>0</td>\n",
              "    </tr>\n",
              "    <tr>\n",
              "      <th>1</th>\n",
              "      <td>From gort44@excite.com Mon Jun 24 17:54:21 200...</td>\n",
              "      <td>1</td>\n",
              "    </tr>\n",
              "    <tr>\n",
              "      <th>2</th>\n",
              "      <td>From fork-admin@xent.com Mon Jul 29 11:39:57 2...</td>\n",
              "      <td>1</td>\n",
              "    </tr>\n",
              "    <tr>\n",
              "      <th>3</th>\n",
              "      <td>From dcm123@btamail.net.cn Mon Jun 24 17:49:23...</td>\n",
              "      <td>1</td>\n",
              "    </tr>\n",
              "    <tr>\n",
              "      <th>4</th>\n",
              "      <td>From ilug-admin@linux.ie Mon Aug 19 11:02:47 2...</td>\n",
              "      <td>0</td>\n",
              "    </tr>\n",
              "    <tr>\n",
              "      <th>...</th>\n",
              "      <td>...</td>\n",
              "      <td>...</td>\n",
              "    </tr>\n",
              "    <tr>\n",
              "      <th>5851</th>\n",
              "      <td>From ilug-admin@linux.ie Mon Jul 22 18:12:45 2...</td>\n",
              "      <td>0</td>\n",
              "    </tr>\n",
              "    <tr>\n",
              "      <th>5852</th>\n",
              "      <td>From fork-admin@xent.com Mon Oct 7 20:37:02 20...</td>\n",
              "      <td>0</td>\n",
              "    </tr>\n",
              "    <tr>\n",
              "      <th>5853</th>\n",
              "      <td>Received: from hq.pro-ns.net (localhost [127.0...</td>\n",
              "      <td>1</td>\n",
              "    </tr>\n",
              "    <tr>\n",
              "      <th>5854</th>\n",
              "      <td>From razor-users-admin@lists.sourceforge.net T...</td>\n",
              "      <td>0</td>\n",
              "    </tr>\n",
              "    <tr>\n",
              "      <th>5855</th>\n",
              "      <td>From rssfeeds@jmason.org Mon Sep 30 13:44:10 2...</td>\n",
              "      <td>0</td>\n",
              "    </tr>\n",
              "  </tbody>\n",
              "</table>\n",
              "<p>5787 rows × 2 columns</p>\n",
              "</div>\n",
              "    <div class=\"colab-df-buttons\">\n",
              "\n",
              "  <div class=\"colab-df-container\">\n",
              "    <button class=\"colab-df-convert\" onclick=\"convertToInteractive('df-7250f063-4de9-4aee-86e6-b8e1e4cf53cf')\"\n",
              "            title=\"Convert this dataframe to an interactive table.\"\n",
              "            style=\"display:none;\">\n",
              "\n",
              "  <svg xmlns=\"http://www.w3.org/2000/svg\" height=\"24px\" viewBox=\"0 -960 960 960\">\n",
              "    <path d=\"M120-120v-720h720v720H120Zm60-500h600v-160H180v160Zm220 220h160v-160H400v160Zm0 220h160v-160H400v160ZM180-400h160v-160H180v160Zm440 0h160v-160H620v160ZM180-180h160v-160H180v160Zm440 0h160v-160H620v160Z\"/>\n",
              "  </svg>\n",
              "    </button>\n",
              "\n",
              "  <style>\n",
              "    .colab-df-container {\n",
              "      display:flex;\n",
              "      gap: 12px;\n",
              "    }\n",
              "\n",
              "    .colab-df-convert {\n",
              "      background-color: #E8F0FE;\n",
              "      border: none;\n",
              "      border-radius: 50%;\n",
              "      cursor: pointer;\n",
              "      display: none;\n",
              "      fill: #1967D2;\n",
              "      height: 32px;\n",
              "      padding: 0 0 0 0;\n",
              "      width: 32px;\n",
              "    }\n",
              "\n",
              "    .colab-df-convert:hover {\n",
              "      background-color: #E2EBFA;\n",
              "      box-shadow: 0px 1px 2px rgba(60, 64, 67, 0.3), 0px 1px 3px 1px rgba(60, 64, 67, 0.15);\n",
              "      fill: #174EA6;\n",
              "    }\n",
              "\n",
              "    .colab-df-buttons div {\n",
              "      margin-bottom: 4px;\n",
              "    }\n",
              "\n",
              "    [theme=dark] .colab-df-convert {\n",
              "      background-color: #3B4455;\n",
              "      fill: #D2E3FC;\n",
              "    }\n",
              "\n",
              "    [theme=dark] .colab-df-convert:hover {\n",
              "      background-color: #434B5C;\n",
              "      box-shadow: 0px 1px 3px 1px rgba(0, 0, 0, 0.15);\n",
              "      filter: drop-shadow(0px 1px 2px rgba(0, 0, 0, 0.3));\n",
              "      fill: #FFFFFF;\n",
              "    }\n",
              "  </style>\n",
              "\n",
              "    <script>\n",
              "      const buttonEl =\n",
              "        document.querySelector('#df-7250f063-4de9-4aee-86e6-b8e1e4cf53cf button.colab-df-convert');\n",
              "      buttonEl.style.display =\n",
              "        google.colab.kernel.accessAllowed ? 'block' : 'none';\n",
              "\n",
              "      async function convertToInteractive(key) {\n",
              "        const element = document.querySelector('#df-7250f063-4de9-4aee-86e6-b8e1e4cf53cf');\n",
              "        const dataTable =\n",
              "          await google.colab.kernel.invokeFunction('convertToInteractive',\n",
              "                                                    [key], {});\n",
              "        if (!dataTable) return;\n",
              "\n",
              "        const docLinkHtml = 'Like what you see? Visit the ' +\n",
              "          '<a target=\"_blank\" href=https://colab.research.google.com/notebooks/data_table.ipynb>data table notebook</a>'\n",
              "          + ' to learn more about interactive tables.';\n",
              "        element.innerHTML = '';\n",
              "        dataTable['output_type'] = 'display_data';\n",
              "        await google.colab.output.renderOutput(dataTable, element);\n",
              "        const docLink = document.createElement('div');\n",
              "        docLink.innerHTML = docLinkHtml;\n",
              "        element.appendChild(docLink);\n",
              "      }\n",
              "    </script>\n",
              "  </div>\n",
              "\n",
              "\n",
              "<div id=\"df-ff8666d2-50f9-4183-926a-291074ad5ae4\">\n",
              "  <button class=\"colab-df-quickchart\" onclick=\"quickchart('df-ff8666d2-50f9-4183-926a-291074ad5ae4')\"\n",
              "            title=\"Suggest charts\"\n",
              "            style=\"display:none;\">\n",
              "\n",
              "<svg xmlns=\"http://www.w3.org/2000/svg\" height=\"24px\"viewBox=\"0 0 24 24\"\n",
              "     width=\"24px\">\n",
              "    <g>\n",
              "        <path d=\"M19 3H5c-1.1 0-2 .9-2 2v14c0 1.1.9 2 2 2h14c1.1 0 2-.9 2-2V5c0-1.1-.9-2-2-2zM9 17H7v-7h2v7zm4 0h-2V7h2v10zm4 0h-2v-4h2v4z\"/>\n",
              "    </g>\n",
              "</svg>\n",
              "  </button>\n",
              "\n",
              "<style>\n",
              "  .colab-df-quickchart {\n",
              "      --bg-color: #E8F0FE;\n",
              "      --fill-color: #1967D2;\n",
              "      --hover-bg-color: #E2EBFA;\n",
              "      --hover-fill-color: #174EA6;\n",
              "      --disabled-fill-color: #AAA;\n",
              "      --disabled-bg-color: #DDD;\n",
              "  }\n",
              "\n",
              "  [theme=dark] .colab-df-quickchart {\n",
              "      --bg-color: #3B4455;\n",
              "      --fill-color: #D2E3FC;\n",
              "      --hover-bg-color: #434B5C;\n",
              "      --hover-fill-color: #FFFFFF;\n",
              "      --disabled-bg-color: #3B4455;\n",
              "      --disabled-fill-color: #666;\n",
              "  }\n",
              "\n",
              "  .colab-df-quickchart {\n",
              "    background-color: var(--bg-color);\n",
              "    border: none;\n",
              "    border-radius: 50%;\n",
              "    cursor: pointer;\n",
              "    display: none;\n",
              "    fill: var(--fill-color);\n",
              "    height: 32px;\n",
              "    padding: 0;\n",
              "    width: 32px;\n",
              "  }\n",
              "\n",
              "  .colab-df-quickchart:hover {\n",
              "    background-color: var(--hover-bg-color);\n",
              "    box-shadow: 0 1px 2px rgba(60, 64, 67, 0.3), 0 1px 3px 1px rgba(60, 64, 67, 0.15);\n",
              "    fill: var(--button-hover-fill-color);\n",
              "  }\n",
              "\n",
              "  .colab-df-quickchart-complete:disabled,\n",
              "  .colab-df-quickchart-complete:disabled:hover {\n",
              "    background-color: var(--disabled-bg-color);\n",
              "    fill: var(--disabled-fill-color);\n",
              "    box-shadow: none;\n",
              "  }\n",
              "\n",
              "  .colab-df-spinner {\n",
              "    border: 2px solid var(--fill-color);\n",
              "    border-color: transparent;\n",
              "    border-bottom-color: var(--fill-color);\n",
              "    animation:\n",
              "      spin 1s steps(1) infinite;\n",
              "  }\n",
              "\n",
              "  @keyframes spin {\n",
              "    0% {\n",
              "      border-color: transparent;\n",
              "      border-bottom-color: var(--fill-color);\n",
              "      border-left-color: var(--fill-color);\n",
              "    }\n",
              "    20% {\n",
              "      border-color: transparent;\n",
              "      border-left-color: var(--fill-color);\n",
              "      border-top-color: var(--fill-color);\n",
              "    }\n",
              "    30% {\n",
              "      border-color: transparent;\n",
              "      border-left-color: var(--fill-color);\n",
              "      border-top-color: var(--fill-color);\n",
              "      border-right-color: var(--fill-color);\n",
              "    }\n",
              "    40% {\n",
              "      border-color: transparent;\n",
              "      border-right-color: var(--fill-color);\n",
              "      border-top-color: var(--fill-color);\n",
              "    }\n",
              "    60% {\n",
              "      border-color: transparent;\n",
              "      border-right-color: var(--fill-color);\n",
              "    }\n",
              "    80% {\n",
              "      border-color: transparent;\n",
              "      border-right-color: var(--fill-color);\n",
              "      border-bottom-color: var(--fill-color);\n",
              "    }\n",
              "    90% {\n",
              "      border-color: transparent;\n",
              "      border-bottom-color: var(--fill-color);\n",
              "    }\n",
              "  }\n",
              "</style>\n",
              "\n",
              "  <script>\n",
              "    async function quickchart(key) {\n",
              "      const quickchartButtonEl =\n",
              "        document.querySelector('#' + key + ' button');\n",
              "      quickchartButtonEl.disabled = true;  // To prevent multiple clicks.\n",
              "      quickchartButtonEl.classList.add('colab-df-spinner');\n",
              "      try {\n",
              "        const charts = await google.colab.kernel.invokeFunction(\n",
              "            'suggestCharts', [key], {});\n",
              "      } catch (error) {\n",
              "        console.error('Error during call to suggestCharts:', error);\n",
              "      }\n",
              "      quickchartButtonEl.classList.remove('colab-df-spinner');\n",
              "      quickchartButtonEl.classList.add('colab-df-quickchart-complete');\n",
              "    }\n",
              "    (() => {\n",
              "      let quickchartButtonEl =\n",
              "        document.querySelector('#df-ff8666d2-50f9-4183-926a-291074ad5ae4 button');\n",
              "      quickchartButtonEl.style.display =\n",
              "        google.colab.kernel.accessAllowed ? 'block' : 'none';\n",
              "    })();\n",
              "  </script>\n",
              "</div>\n",
              "    </div>\n",
              "  </div>\n"
            ],
            "application/vnd.google.colaboratory.intrinsic+json": {
              "type": "dataframe",
              "variable_name": "data",
              "summary": "{\n  \"name\": \"data\",\n  \"rows\": 5787,\n  \"fields\": [\n    {\n      \"column\": \"text\",\n      \"properties\": {\n        \"dtype\": \"string\",\n        \"num_unique_values\": 5320,\n        \"samples\": [\n          \"From sentto-2242572-56001-1034049352-zzzz=spamassassin.taint.org@returns.groups.yahoo.com Tue Oct 8 10:58:30 2002 Return-Path: <sentto-2242572-56001-1034049352-zzzz=spamassassin.taint.org@returns.groups.yahoo.com> Delivered-To: zzzz@localhost.spamassassin.taint.org Received: from localhost (jalapeno [127.0.0.1]) by spamassassin.taint.org (Postfix) with ESMTP id 3A5C916F20 for <zzzz@localhost>; Tue, 8 Oct 2002 10:57:13 +0100 (IST) Received: from jalapeno [127.0.0.1] by localhost with IMAP (fetchmail-5.9.0) for zzzz@localhost (single-drop); Tue, 08 Oct 2002 10:57:13 +0100 (IST) Received: from n21.grp.scd.yahoo.com (n21.grp.scd.yahoo.com [66.218.66.77]) by dogma.slashnull.org (8.11.6/8.11.6) with SMTP id g983tCK31950 for <zzzz@spamassassin.taint.org>; Tue, 8 Oct 2002 04:55:12 +0100 X-Egroups-Return: sentto-2242572-56001-1034049352-zzzz=spamassassin.taint.org@returns.groups.yahoo.com Received: from [66.218.66.96] by n21.grp.scd.yahoo.com with NNFMP; 08 Oct 2002 03:55:53 -0000 X-Sender: felinda@frogstone.net X-Apparently-To: zzzzteana@yahoogroups.com Received: (EGP: mail-8_2_2_0); 8 Oct 2002 03:55:52 -0000 Received: (qmail 35145 invoked from network); 8 Oct 2002 03:55:52 -0000 Received: from unknown (66.218.66.217) by m13.grp.scd.yahoo.com with QMQP; 8 Oct 2002 03:55:52 -0000 Received: from unknown (HELO mail2.athenet.net) (209.103.196.16) by mta2.grp.scd.yahoo.com with SMTP; 8 Oct 2002 03:55:51 -0000 Received: from [209.103.203.17] (209-103-203-17.dial-in1.osh.athenet.net [209.103.203.17]) by mail2.athenet.net (8.11.6/8.11.6) with ESMTP id g983tZ427119 for <forteana@yahoogroups.com>; Mon, 7 Oct 2002 22:55:40 -0500 X-Sender: felinda@pop2.athenet.net Message-Id: <a05200a04b9c80710dc5f@[209.103.203.17]> In-Reply-To: <3D980C63.5090902@ee.ed.ac.uk> References: <3D980C63.5090902@ee.ed.ac.uk> To: zzzzteana@yahoogroups.com From: That Goddess Chick <felinda@frogstone.net> X-Yahoo-Profile: felinda MIME-Version: 1.0 Mailing-List: list zzzzteana@yahoogroups.com; contact forteana-owner@yahoogroups.com Delivered-To: mailing list zzzzteana@yahoogroups.com Precedence: bulk List-Unsubscribe: <mailto:zzzzteana-unsubscribe@yahoogroups.com> Date: Mon, 7 Oct 2002 22:55:05 -0500 Subject: Re: [zzzzteana] Good ISP for Mac? Reply-To: zzzzteana@yahoogroups.com Content-Type: text/plain; charset=US-ASCII Content-Transfer-Encoding: 7bit >I managed to get myself an iMac yesterday (just a G3 but a good'un) and was >wondering if any of the Apple people on here could recommend a good ISP (for >narrow band at the moment) for getting online under OS X. > >Stew my local ISP works great with my iMac. I don't know what you guys have over there, but OS X ought to let you get online as well as anything else. Crossing my fingers though....I did a upgrade to Jaguar, and ended up doing a scrape and install after that. Oh, and I am on 56k dialup -- Fel NEW!! Cafe Forteana is back: http://www.frogstone.net/Cafe/CafeForteana.html http://www.frogstone.net Weird Page: http://my.athenet.net/~felinda/WeirdPage.html [Non-text portions of this message have been removed] ------------------------ Yahoo! Groups Sponsor ---------------------~--> Home Selling? Try Us! http://us.click.yahoo.com/QrPZMC/iTmEAA/MVfIAA/7gSolB/TM ---------------------------------------------------------------------~-> To unsubscribe from this group, send an email to: forteana-unsubscribe@egroups.com Your use of Yahoo! Groups is subject to http://docs.yahoo.com/info/terms/\",\n          \"From rpm-list-admin@freshrpms.net Thu Sep 19 13:02:12 2002 Return-Path: <rpm-zzzlist-admin@freshrpms.net> Delivered-To: yyyy@localhost.spamassassin.taint.org Received: from localhost (jalapeno [127.0.0.1]) by jmason.org (Postfix) with ESMTP id 5E12716F03 for <jm@localhost>; Thu, 19 Sep 2002 13:02:11 +0100 (IST) Received: from jalapeno [127.0.0.1] by localhost with IMAP (fetchmail-5.9.0) for jm@localhost (single-drop); Thu, 19 Sep 2002 13:02:11 +0100 (IST) Received: from egwn.net (ns2.egwn.net [193.172.5.4]) by dogma.slashnull.org (8.11.6/8.11.6) with ESMTP id g8JApkC16151 for <jm-rpm@jmason.org>; Thu, 19 Sep 2002 11:51:47 +0100 Received: from auth02.nl.egwn.net (localhost [127.0.0.1]) by egwn.net (8.11.6/8.11.6/EGWN) with ESMTP id g8JAn3f17228; Thu, 19 Sep 2002 12:49:03 +0200 Received: from zeus.scania.co.za ([196.41.10.170]) by egwn.net (8.11.6/8.11.6/EGWN) with ESMTP id g8JAmHf13834 for <rpm-list@freshrpms.net>; Thu, 19 Sep 2002 12:48:18 +0200 Received: from leenx.co.za ([10.1.1.130]) by zeus.scania.co.za (8.11.6/8.11.2) with ESMTP id g8JAgWC10724 for <rpm-list@freshrpms.net>; Thu, 19 Sep 2002 12:42:36 +0200 Message-Id: <3D89AA17.4090005@leenx.co.za> From: \\\"C.Lee Taylor\\\" <leet@leenx.co.za> Organization: LeeNX User-Agent: Mozilla/5.0 (X11; U; Linux i686; en-US; rv:1.0.0) Gecko/20020607 X-Accept-Language: en-us, en MIME-Version: 1.0 To: rpm-zzzlist@freshrpms.net Subject: Re: --with ... References: <20020919100001.21684.81501.Mailman@auth02> Content-Type: text/plain; charset=us-ascii; format=flowed Content-Transfer-Encoding: 7bit X-Mailscanner: Found to be clean, Found to be clean, Found to be clean Sender: rpm-zzzlist-admin@freshrpms.net Errors-To: rpm-zzzlist-admin@freshrpms.net X-Beenthere: rpm-zzzlist@freshrpms.net X-Mailman-Version: 2.0.11 Precedence: bulk Reply-To: rpm-zzzlist@freshrpms.net List-Help: <mailto:rpm-zzzlist-request@freshrpms.net?subject=help> List-Post: <mailto:rpm-zzzlist@freshrpms.net> List-Subscribe: <http://lists.freshrpms.net/mailman/listinfo/rpm-zzzlist>, <mailto:rpm-list-request@freshrpms.net?subject=subscribe> List-Id: Freshrpms RPM discussion list <rpm-zzzlist.freshrpms.net> List-Unsubscribe: <http://lists.freshrpms.net/mailman/listinfo/rpm-zzzlist>, <mailto:rpm-list-request@freshrpms.net?subject=unsubscribe> List-Archive: <http://lists.freshrpms.net/pipermail/rpm-zzzlist/> X-Original-Date: Thu, 19 Sep 2002 12:42:31 +0200 Date: Thu, 19 Sep 2002 12:42:31 +0200 Greetings ... > PS: Yup, I'm back from my holidays ;-) I hope you did not miss us at all ... ;-0 > I think I'll use this \\\"--with <whatever>\\\" switch more and more where > possible. Mmm, great stuff ... Now to get the RedHat Samba packager to do the same thing ... I have used there spec file and fun a few problems in it, and one of them was just hashing out things for other use ... Now to get to grips with the Kernel ... still have not found and easy way to rebuild the Kernel without having to wait and hour for it to generate the headers for all arch ... arrrrhhhh ... Mailed Lee _______________________________________________ RPM-List mailing list <RPM-List@freshrpms.net> http://lists.freshrpms.net/mailman/listinfo/rpm-list\",\n          \"From rssfeeds@jmason.org Thu Sep 26 16:42:16 2002 Return-Path: <rssfeeds@spamassassin.taint.org> Delivered-To: yyyy@localhost.spamassassin.taint.org Received: from localhost (jalapeno [127.0.0.1]) by jmason.org (Postfix) with ESMTP id 88B4016F75 for <jm@localhost>; Thu, 26 Sep 2002 16:41:23 +0100 (IST) Received: from jalapeno [127.0.0.1] by localhost with IMAP (fetchmail-5.9.0) for jm@localhost (single-drop); Thu, 26 Sep 2002 16:41:23 +0100 (IST) Received: from dogma.slashnull.org (localhost [127.0.0.1]) by dogma.slashnull.org (8.11.6/8.11.6) with ESMTP id g8QFVag25034 for <jm@jmason.org>; Thu, 26 Sep 2002 16:31:36 +0100 Message-Id: <200209261531.g8QFVag25034@dogma.slashnull.org> To: yyyy@spamassassin.taint.org From: jwz <rssfeeds@spamassassin.taint.org> Subject: \\\"KICK ME\\\" Date: Thu, 26 Sep 2002 15:31:36 -0000 Content-Type: text/plain; encoding=utf-8 URL: http://www.livejournal.com/talkread.bml?journal=jwz&itemid=48335 Date: Not supplied http://www.livejournal.com/talkread.bml?journal=jwz&itemid=48335\"\n        ],\n        \"semantic_type\": \"\",\n        \"description\": \"\"\n      }\n    },\n    {\n      \"column\": \"target\",\n      \"properties\": {\n        \"dtype\": \"category\",\n        \"num_unique_values\": 2,\n        \"samples\": [\n          \"1\",\n          \"0\"\n        ],\n        \"semantic_type\": \"\",\n        \"description\": \"\"\n      }\n    }\n  ]\n}"
            }
          },
          "metadata": {},
          "execution_count": 10
        }
      ]
    },
    {
      "cell_type": "code",
      "source": [
        "#Store labels\n",
        "labels = data['target']"
      ],
      "metadata": {
        "id": "qhCtRwx5KX7c"
      },
      "execution_count": null,
      "outputs": []
    },
    {
      "cell_type": "code",
      "source": [
        "# Access the text column\n",
        "text_data = data['text']"
      ],
      "metadata": {
        "id": "VqUCPHXNKkkC"
      },
      "execution_count": null,
      "outputs": []
    },
    {
      "cell_type": "code",
      "source": [
        "print(text_data.dtypes)"
      ],
      "metadata": {
        "colab": {
          "base_uri": "https://localhost:8080/"
        },
        "id": "yOmniMnIMiJa",
        "outputId": "d0f93534-fb88-49ce-86e6-e40c32ae84d6"
      },
      "execution_count": null,
      "outputs": [
        {
          "output_type": "stream",
          "name": "stdout",
          "text": [
            "object\n"
          ]
        }
      ]
    },
    {
      "cell_type": "code",
      "source": [
        "text_data"
      ],
      "metadata": {
        "colab": {
          "base_uri": "https://localhost:8080/"
        },
        "id": "rlD1NEQLKnJJ",
        "outputId": "f8bdaaf4-feaa-4d3d-95b5-778dc46dea60"
      },
      "execution_count": null,
      "outputs": [
        {
          "output_type": "execute_result",
          "data": {
            "text/plain": [
              "0       From ilug-admin@linux.ie Mon Jul 29 11:28:02 2...\n",
              "1       From gort44@excite.com Mon Jun 24 17:54:21 200...\n",
              "2       From fork-admin@xent.com Mon Jul 29 11:39:57 2...\n",
              "3       From dcm123@btamail.net.cn Mon Jun 24 17:49:23...\n",
              "4       From ilug-admin@linux.ie Mon Aug 19 11:02:47 2...\n",
              "                              ...                        \n",
              "5851    From ilug-admin@linux.ie Mon Jul 22 18:12:45 2...\n",
              "5852    From fork-admin@xent.com Mon Oct 7 20:37:02 20...\n",
              "5853    Received: from hq.pro-ns.net (localhost [127.0...\n",
              "5854    From razor-users-admin@lists.sourceforge.net T...\n",
              "5855    From rssfeeds@jmason.org Mon Sep 30 13:44:10 2...\n",
              "Name: text, Length: 5787, dtype: object"
            ]
          },
          "metadata": {},
          "execution_count": 14
        }
      ]
    },
    {
      "cell_type": "code",
      "source": [
        "# Convert the labels to integer format\n",
        "data['target'] = data['target'].astype(int)"
      ],
      "metadata": {
        "id": "h2JzMAD5e33C"
      },
      "execution_count": null,
      "outputs": []
    },
    {
      "cell_type": "code",
      "source": [
        "# Separate labels and text data\n",
        "labels = data['target']\n",
        "text_data = data['text']"
      ],
      "metadata": {
        "id": "FSmFXUdfd90E"
      },
      "execution_count": null,
      "outputs": []
    },
    {
      "cell_type": "code",
      "source": [
        "print(text_data)"
      ],
      "metadata": {
        "colab": {
          "base_uri": "https://localhost:8080/"
        },
        "id": "UB4m5dHjV-1g",
        "outputId": "df952d73-da3c-433a-9ee8-141f0e9c98ac"
      },
      "execution_count": null,
      "outputs": [
        {
          "output_type": "stream",
          "name": "stdout",
          "text": [
            "0       From ilug-admin@linux.ie Mon Jul 29 11:28:02 2...\n",
            "1       From gort44@excite.com Mon Jun 24 17:54:21 200...\n",
            "2       From fork-admin@xent.com Mon Jul 29 11:39:57 2...\n",
            "3       From dcm123@btamail.net.cn Mon Jun 24 17:49:23...\n",
            "4       From ilug-admin@linux.ie Mon Aug 19 11:02:47 2...\n",
            "                              ...                        \n",
            "5851    From ilug-admin@linux.ie Mon Jul 22 18:12:45 2...\n",
            "5852    From fork-admin@xent.com Mon Oct 7 20:37:02 20...\n",
            "5853    Received: from hq.pro-ns.net (localhost [127.0...\n",
            "5854    From razor-users-admin@lists.sourceforge.net T...\n",
            "5855    From rssfeeds@jmason.org Mon Sep 30 13:44:10 2...\n",
            "Name: text, Length: 5787, dtype: object\n"
          ]
        }
      ]
    },
    {
      "cell_type": "code",
      "source": [
        "# Lowercase all text data\n",
        "text_data = [text.lower() for text in text_data]"
      ],
      "metadata": {
        "id": "hJybMO2iUW6p"
      },
      "execution_count": null,
      "outputs": []
    },
    {
      "cell_type": "code",
      "source": [
        "#Find the number of unique words\n",
        "#Remove stop words and perform lemmatization\n",
        "text_data = [' '.join(lemmatizer.lemmatize(word) for word in word_tokenize(text) if word not in stop_words) for text in text_data]\n",
        "# Combine all the text data\n",
        "all_text = ' '.join(text_data)\n",
        "# Tokenize the text data\n",
        "all_words = all_text.split(' ')\n",
        "# Get the number of unique words\n",
        "num_unique_words = len(set(all_words))\n",
        "print(f\"Number of unique words: {num_unique_words}\")"
      ],
      "metadata": {
        "colab": {
          "base_uri": "https://localhost:8080/"
        },
        "id": "KVF33sBUNpZ3",
        "outputId": "cd924b23-a87d-4ae8-9695-1103b69e1ab4"
      },
      "execution_count": null,
      "outputs": [
        {
          "output_type": "stream",
          "name": "stdout",
          "text": [
            "Number of unique words: 151660\n"
          ]
        }
      ]
    },
    {
      "cell_type": "code",
      "source": [
        "from collections import Counter\n",
        "import numpy as np\n",
        "\n",
        "# Count the frequency of each word\n",
        "word_counts = Counter(all_words)\n",
        "# Sort the words by frequency (from high to low)\n",
        "sorted_word_counts = sorted(word_counts.items(), key=lambda item: item[1], reverse=True)\n",
        "\n",
        "# Calculate the cumulative sum of word frequencies\n",
        "cumulative_word_counts = np.cumsum([count for word, count in sorted_word_counts])\n",
        "# Calculate the total number of word occurrences\n",
        "total_word_count = cumulative_word_counts[-1]\n",
        "\n",
        "# Find the smallest number of most frequent words that make up at least 95% of the total word occurrences\n",
        "num_words_95_percent = next(i for i, cumulative_count in enumerate(cumulative_word_counts) if cumulative_count >= total_word_count * 0.95)\n",
        "\n",
        "print(f\"Number of words for 95% coverage: {num_words_95_percent}\")\n"
      ],
      "metadata": {
        "colab": {
          "base_uri": "https://localhost:8080/"
        },
        "id": "_Kq8h_N5Or3r",
        "outputId": "21e8b2fe-a336-497a-f0e0-b5d8bfe9ec52"
      },
      "execution_count": null,
      "outputs": [
        {
          "output_type": "stream",
          "name": "stdout",
          "text": [
            "Number of words for 95% coverage: 23226\n"
          ]
        }
      ]
    },
    {
      "cell_type": "code",
      "source": [
        "#Tokenize the text data\n",
        "tokenizer = Tokenizer(num_words=num_words_95_percent)\n",
        "tokenizer.fit_on_texts(text_data)\n",
        "sequences = tokenizer.texts_to_sequences(text_data)"
      ],
      "metadata": {
        "id": "TQ2z7GOcVOi9"
      },
      "execution_count": null,
      "outputs": []
    },
    {
      "cell_type": "code",
      "source": [
        "# Get the vocabulary size from the tokenizer\n",
        "vocab_size = len(tokenizer.word_index) + 1  # Consider padding index (0)"
      ],
      "metadata": {
        "id": "1vV5fHTvVmm4"
      },
      "execution_count": null,
      "outputs": []
    },
    {
      "cell_type": "code",
      "source": [
        "vocab_size"
      ],
      "metadata": {
        "colab": {
          "base_uri": "https://localhost:8080/"
        },
        "id": "cLrFT7DRfl3T",
        "outputId": "93fbbb46-977e-4092-b0f1-8dbe0cae3969"
      },
      "execution_count": null,
      "outputs": [
        {
          "output_type": "execute_result",
          "data": {
            "text/plain": [
              "108408"
            ]
          },
          "metadata": {},
          "execution_count": 23
        }
      ]
    },
    {
      "cell_type": "code",
      "source": [
        "#Find maximum length of a sequence\n",
        "# Calculate the length of each sequence\n",
        "sequence_lengths = [len(sequence) for sequence in sequences]\n",
        "# Find the maximum length\n",
        "max_len = max(sequence_lengths)\n",
        "print(f\"Maximum length: {max_len}\") # Adjustable hyperparameter"
      ],
      "metadata": {
        "colab": {
          "base_uri": "https://localhost:8080/"
        },
        "id": "dn9KA7XUTTz_",
        "outputId": "3195132a-9f49-441c-ffdf-17f75acd4264"
      },
      "execution_count": null,
      "outputs": [
        {
          "output_type": "stream",
          "name": "stdout",
          "text": [
            "Maximum length: 7924\n"
          ]
        }
      ]
    },
    {
      "cell_type": "code",
      "source": [
        "# Find the length that covers 95% of the sequences\n",
        "max_len_95_percent = int(np.percentile(sequence_lengths, 95))\n",
        "print(f\"Length for 95% coverage: {max_len_95_percent}\")"
      ],
      "metadata": {
        "colab": {
          "base_uri": "https://localhost:8080/"
        },
        "id": "3TrkATW6WFpy",
        "outputId": "482fb894-45d6-45d3-e554-f7585112e537"
      },
      "execution_count": null,
      "outputs": [
        {
          "output_type": "stream",
          "name": "stdout",
          "text": [
            "Length for 95% coverage: 1381\n"
          ]
        }
      ]
    },
    {
      "cell_type": "code",
      "source": [
        "# 4. Pad sequences with zeros to ensure a fixed length (e.g., max_len)\n",
        "padded_sequences = pad_sequences(sequences, maxlen=max_len_95_percent, padding='post')"
      ],
      "metadata": {
        "id": "QyfAVElyVwn_"
      },
      "execution_count": null,
      "outputs": []
    },
    {
      "cell_type": "code",
      "source": [
        "len(padded_sequences[0])"
      ],
      "metadata": {
        "colab": {
          "base_uri": "https://localhost:8080/"
        },
        "id": "ttkZlmQGXo4J",
        "outputId": "141d3a2f-671e-4f07-b7aa-087b7ca5f122"
      },
      "execution_count": null,
      "outputs": [
        {
          "output_type": "execute_result",
          "data": {
            "text/plain": [
              "1381"
            ]
          },
          "metadata": {},
          "execution_count": 27
        }
      ]
    },
    {
      "cell_type": "code",
      "source": [
        "# Split the data into training, validation, and test sets\n",
        "X_temp, X_test, y_temp, y_test = train_test_split(padded_sequences, labels, test_size=0.2, random_state=42)  # Split into temp and test sets"
      ],
      "metadata": {
        "id": "f3Z1DwoE6oR8"
      },
      "execution_count": null,
      "outputs": []
    },
    {
      "cell_type": "code",
      "source": [
        "X_train, X_val, y_train, y_val = train_test_split(X_temp, y_temp, test_size=0.25, random_state=42)  # Split temp set into training and validation sets"
      ],
      "metadata": {
        "id": "YBWQevYSBjpz"
      },
      "execution_count": null,
      "outputs": []
    },
    {
      "cell_type": "code",
      "source": [
        "# This section returns the processed data ready for model\n",
        "processed_data = (X_train, X_val, X_test, y_train, y_val, y_test, vocab_size)"
      ],
      "metadata": {
        "id": "aOXzLTuCV9Tr"
      },
      "execution_count": null,
      "outputs": []
    },
    {
      "cell_type": "code",
      "source": [
        "processed_data"
      ],
      "metadata": {
        "colab": {
          "base_uri": "https://localhost:8080/"
        },
        "id": "FoLs8jAMoeJO",
        "outputId": "178ce976-e8bc-47c0-882b-ff4209ff1f58"
      },
      "execution_count": null,
      "outputs": [
        {
          "output_type": "execute_result",
          "data": {
            "text/plain": [
              "(array([[  19,   39,   22, ...,    0,    0,    0],\n",
              "        [  54,   15,   39, ...,    0,    0,    0],\n",
              "        [  75,   77,   39, ...,    0,    0,    0],\n",
              "        ...,\n",
              "        [  19,   39,   22, ...,    0,    0,    0],\n",
              "        [ 695, 2101,  322, ...,   59,   76,   19],\n",
              "        [  19,   39,   22, ...,    0,    0,    0]], dtype=int32),\n",
              " array([[  129,  4178,    37, ...,     0,     0,     0],\n",
              "        [17574,  2210,     2, ...,     0,     0,     0],\n",
              "        [   54,    15,    39, ...,     0,     0,     0],\n",
              "        ...,\n",
              "        [   19,    39,    22, ...,     0,     0,     0],\n",
              "        [   11,    36,     3, ..., 23116, 23117, 23118],\n",
              "        [  673,  4540,  4922, ...,     0,     0,     0]], dtype=int32),\n",
              " array([[   63,    39,    41, ...,     0,     0,     0],\n",
              "        [  372,     2,   207, ...,     0,     0,     0],\n",
              "        [   63,    39,    41, ...,     0,     0,     0],\n",
              "        ...,\n",
              "        [   75,   194,    39, ...,     0,     0,     0],\n",
              "        [    2,    60,   311, ...,     0,     0,     0],\n",
              "        [20872,     2,    60, ...,     0,     0,     0]], dtype=int32),\n",
              " 600     0\n",
              " 1897    0\n",
              " 3251    0\n",
              " 4457    1\n",
              " 3340    1\n",
              "        ..\n",
              " 3525    0\n",
              " 2718    0\n",
              " 2994    0\n",
              " 2021    0\n",
              " 425     0\n",
              " Name: target, Length: 3471, dtype: int64,\n",
              " 5037    1\n",
              " 3216    1\n",
              " 5580    0\n",
              " 793     1\n",
              " 4452    0\n",
              "        ..\n",
              " 440     0\n",
              " 3708    1\n",
              " 4105    0\n",
              " 1663    1\n",
              " 3404    1\n",
              " Name: target, Length: 1158, dtype: int64,\n",
              " 5027    0\n",
              " 4806    1\n",
              " 1079    1\n",
              " 1744    0\n",
              " 158     0\n",
              "        ..\n",
              " 4747    1\n",
              " 5749    1\n",
              " 5378    0\n",
              " 205     1\n",
              " 341     1\n",
              " Name: target, Length: 1158, dtype: int64,\n",
              " 108408)"
            ]
          },
          "metadata": {},
          "execution_count": 31
        }
      ]
    },
    {
      "cell_type": "markdown",
      "source": [
        "# Model Building."
      ],
      "metadata": {
        "id": "kdhlGSKkWsca"
      }
    },
    {
      "cell_type": "code",
      "source": [
        "import tensorflow as tf\n",
        "import numpy as np\n",
        "from tensorflow.keras.layers import Input, Embedding, Bidirectional, LSTM, GlobalAveragePooling1D, Dense\n",
        "from tensorflow.keras.models import Model\n",
        "from tensorflow.keras.optimizers import Adam\n",
        "from tensorflow.keras.losses import BinaryCrossentropy\n",
        "from tensorflow.keras.metrics import Accuracy\n",
        "from tensorflow.keras.callbacks import EarlyStopping\n",
        "from tensorflow.keras.metrics import BinaryAccuracy\n",
        "from tensorflow.keras.layers import Dropout\n",
        "from tensorflow.keras.regularizers import l2"
      ],
      "metadata": {
        "id": "oRnXbkokWyqM"
      },
      "execution_count": null,
      "outputs": []
    },
    {
      "cell_type": "code",
      "source": [
        "# Get the processed data from Data Processing Step\n",
        "X_train, X_val, X_test, y_train, y_val, y_test, vocab_size = processed_data"
      ],
      "metadata": {
        "id": "3Ir2tMmV7lRY"
      },
      "execution_count": null,
      "outputs": []
    },
    {
      "cell_type": "code",
      "source": [
        "# Define the model\n",
        "embed_dim = 64  # Embedding dimension\n",
        "rnn_units = 128 # Number of units in LSTM layers\n",
        "batch_size = 32  # Batch size for training\n",
        "learning_rate = 0.0001  # Learning rate\n",
        "dropout_rate = 0.5  # Dropout rate\n",
        "l2_reg = 0.01  # L2 regularization rate"
      ],
      "metadata": {
        "id": "su-GZ8fiXbu2"
      },
      "execution_count": null,
      "outputs": []
    },
    {
      "cell_type": "code",
      "source": [
        "inputs = Input(shape=(max_len_95_percent,), dtype=tf.int32)"
      ],
      "metadata": {
        "id": "WO8rLK4FXfdK"
      },
      "execution_count": null,
      "outputs": []
    },
    {
      "cell_type": "code",
      "source": [
        "#Embedding layer to convert word indices to vectors\n",
        "embeddings = Embedding(vocab_size, embed_dim)(inputs)"
      ],
      "metadata": {
        "id": "reRYYtrWXlJc"
      },
      "execution_count": null,
      "outputs": []
    },
    {
      "cell_type": "code",
      "source": [
        "#Bi-directional LSTM layer for processing sequences\n",
        "x = Bidirectional(LSTM(rnn_units, return_sequences=True, kernel_regularizer=l2(l2_reg)))(embeddings)  # Added L2 regularization\n",
        "x = Dropout(dropout_rate)(x)  # Added dropout"
      ],
      "metadata": {
        "id": "wYdBjHV9K46m"
      },
      "execution_count": null,
      "outputs": []
    },
    {
      "cell_type": "code",
      "source": [
        "#Attention layer\n",
        "def scaled_dot_product_attention(queries, keys, values):\n",
        "  \"\"\"Scaled Dot-Product Attention Layer.\"\"\"\n",
        "  scores = tf.matmul(queries, keys, transpose_b=True) / tf.sqrt(tf.cast(tf.shape(keys)[-1], tf.float32)) #Calculates query, key, and value representations and computes Attention scores using dot product\n",
        "  weights = tf.nn.softmax(scores, axis=-1) #Applies softmax to obtain attention weights\n",
        "  output = tf.matmul(weights, values) # Calculates a weighted average of values based on attention weights\n",
        "  return output"
      ],
      "metadata": {
        "id": "BG4cg0i4YSjQ"
      },
      "execution_count": null,
      "outputs": []
    },
    {
      "cell_type": "code",
      "source": [
        "attention_output = scaled_dot_product_attention(x, x, x)  # Apply attention"
      ],
      "metadata": {
        "id": "hEjrAt3kYVzd"
      },
      "execution_count": null,
      "outputs": []
    },
    {
      "cell_type": "code",
      "source": [
        "#Global average pooling\n",
        "x = GlobalAveragePooling1D()(attention_output)  # Pool after attention"
      ],
      "metadata": {
        "id": "-qKHs8qnYab2"
      },
      "execution_count": null,
      "outputs": []
    },
    {
      "cell_type": "code",
      "source": [
        "#Dense layer for output with sigmoid activation for binary classification\n",
        "outputs = Dense(1, activation='sigmoid')(x)"
      ],
      "metadata": {
        "id": "xwtd9O8ZYedG"
      },
      "execution_count": null,
      "outputs": []
    },
    {
      "cell_type": "code",
      "source": [
        "model = Model(inputs=inputs, outputs=outputs)"
      ],
      "metadata": {
        "id": "mf6oiQolYhYm"
      },
      "execution_count": null,
      "outputs": []
    },
    {
      "cell_type": "code",
      "source": [
        "model.summary()"
      ],
      "metadata": {
        "colab": {
          "base_uri": "https://localhost:8080/"
        },
        "id": "Qn6f0Camu5Dx",
        "outputId": "237acf4b-a007-435a-a14b-9a0e8184dbcd"
      },
      "execution_count": null,
      "outputs": [
        {
          "output_type": "stream",
          "name": "stdout",
          "text": [
            "Model: \"model\"\n",
            "__________________________________________________________________________________________________\n",
            " Layer (type)                Output Shape                 Param #   Connected to                  \n",
            "==================================================================================================\n",
            " input_1 (InputLayer)        [(None, 1381)]               0         []                            \n",
            "                                                                                                  \n",
            " embedding (Embedding)       (None, 1381, 64)             6938112   ['input_1[0][0]']             \n",
            "                                                                                                  \n",
            " bidirectional (Bidirection  (None, 1381, 256)            197632    ['embedding[0][0]']           \n",
            " al)                                                                                              \n",
            "                                                                                                  \n",
            " dropout (Dropout)           (None, 1381, 256)            0         ['bidirectional[0][0]']       \n",
            "                                                                                                  \n",
            " tf.compat.v1.shape (TFOpLa  (3,)                         0         ['dropout[0][0]']             \n",
            " mbda)                                                                                            \n",
            "                                                                                                  \n",
            " tf.__operators__.getitem (  ()                           0         ['tf.compat.v1.shape[0][0]']  \n",
            " SlicingOpLambda)                                                                                 \n",
            "                                                                                                  \n",
            " tf.cast (TFOpLambda)        ()                           0         ['tf.__operators__.getitem[0][\n",
            "                                                                    0]']                          \n",
            "                                                                                                  \n",
            " tf.linalg.matmul (TFOpLamb  (None, 1381, 1381)           0         ['dropout[0][0]',             \n",
            " da)                                                                 'dropout[0][0]']             \n",
            "                                                                                                  \n",
            " tf.math.sqrt (TFOpLambda)   ()                           0         ['tf.cast[0][0]']             \n",
            "                                                                                                  \n",
            " tf.math.truediv (TFOpLambd  (None, 1381, 1381)           0         ['tf.linalg.matmul[0][0]',    \n",
            " a)                                                                  'tf.math.sqrt[0][0]']        \n",
            "                                                                                                  \n",
            " tf.nn.softmax (TFOpLambda)  (None, 1381, 1381)           0         ['tf.math.truediv[0][0]']     \n",
            "                                                                                                  \n",
            " tf.linalg.matmul_1 (TFOpLa  (None, 1381, 256)            0         ['tf.nn.softmax[0][0]',       \n",
            " mbda)                                                               'dropout[0][0]']             \n",
            "                                                                                                  \n",
            " global_average_pooling1d (  (None, 256)                  0         ['tf.linalg.matmul_1[0][0]']  \n",
            " GlobalAveragePooling1D)                                                                          \n",
            "                                                                                                  \n",
            " dense (Dense)               (None, 1)                    257       ['global_average_pooling1d[0][\n",
            "                                                                    0]']                          \n",
            "                                                                                                  \n",
            "==================================================================================================\n",
            "Total params: 7136001 (27.22 MB)\n",
            "Trainable params: 7136001 (27.22 MB)\n",
            "Non-trainable params: 0 (0.00 Byte)\n",
            "__________________________________________________________________________________________________\n"
          ]
        }
      ]
    },
    {
      "cell_type": "code",
      "source": [
        "# Compile the model\n",
        "model.compile(\n",
        "    optimizer=Adam(learning_rate=learning_rate),\n",
        "    loss=BinaryCrossentropy(),\n",
        "    metrics=[BinaryAccuracy()]\n",
        ")"
      ],
      "metadata": {
        "id": "bNOqtViVYk2P"
      },
      "execution_count": null,
      "outputs": []
    },
    {
      "cell_type": "code",
      "source": [
        "#Train the Model (with Early Stopping)\n",
        "early_stopping = EarlyStopping(monitor='val_binary_accuracy', patience=8) # Monitor validation accuracy\n"
      ],
      "metadata": {
        "id": "1K3ugYp6YsEd"
      },
      "execution_count": null,
      "outputs": []
    },
    {
      "cell_type": "code",
      "source": [
        "# Fit the model\n",
        "history = model.fit(\n",
        "    X_train, y_train,\n",
        "    epochs=100,\n",
        "    validation_data=(X_val, y_val),\n",
        "    batch_size=batch_size,\n",
        "    callbacks=[early_stopping]\n",
        ")"
      ],
      "metadata": {
        "id": "0CIMOqabfRWz",
        "outputId": "61527cca-fbf0-441d-beed-92510bb8d9e5",
        "colab": {
          "base_uri": "https://localhost:8080/"
        }
      },
      "execution_count": null,
      "outputs": [
        {
          "output_type": "stream",
          "name": "stdout",
          "text": [
            "Epoch 1/100\n",
            "109/109 [==============================] - 43s 328ms/step - loss: 2.5831 - binary_accuracy: 0.6534 - val_loss: 2.2331 - val_binary_accuracy: 0.6857\n",
            "Epoch 2/100\n",
            "109/109 [==============================] - 35s 318ms/step - loss: 1.9392 - binary_accuracy: 0.7433 - val_loss: 1.4495 - val_binary_accuracy: 0.9223\n",
            "Epoch 3/100\n",
            "109/109 [==============================] - 32s 293ms/step - loss: 1.2629 - binary_accuracy: 0.9196 - val_loss: 1.0514 - val_binary_accuracy: 0.9473\n",
            "Epoch 4/100\n",
            "109/109 [==============================] - 30s 276ms/step - loss: 0.9186 - binary_accuracy: 0.9349 - val_loss: 0.7862 - val_binary_accuracy: 0.9499\n",
            "Epoch 5/100\n",
            "109/109 [==============================] - 30s 279ms/step - loss: 0.6669 - binary_accuracy: 0.9553 - val_loss: 0.6065 - val_binary_accuracy: 0.9439\n",
            "Epoch 6/100\n",
            "109/109 [==============================] - 27s 253ms/step - loss: 0.5328 - binary_accuracy: 0.9398 - val_loss: 0.4540 - val_binary_accuracy: 0.9629\n",
            "Epoch 7/100\n",
            "109/109 [==============================] - 27s 251ms/step - loss: 0.4234 - binary_accuracy: 0.9539 - val_loss: 0.3603 - val_binary_accuracy: 0.9560\n",
            "Epoch 8/100\n",
            "109/109 [==============================] - 26s 237ms/step - loss: 0.3001 - binary_accuracy: 0.9649 - val_loss: 0.2660 - val_binary_accuracy: 0.9680\n",
            "Epoch 9/100\n",
            "109/109 [==============================] - 28s 261ms/step - loss: 0.2354 - binary_accuracy: 0.9712 - val_loss: 0.2269 - val_binary_accuracy: 0.9655\n",
            "Epoch 10/100\n",
            "109/109 [==============================] - 26s 240ms/step - loss: 0.1894 - binary_accuracy: 0.9741 - val_loss: 0.2290 - val_binary_accuracy: 0.9611\n",
            "Epoch 11/100\n",
            "109/109 [==============================] - 25s 230ms/step - loss: 0.1702 - binary_accuracy: 0.9784 - val_loss: 0.1564 - val_binary_accuracy: 0.9793\n",
            "Epoch 12/100\n",
            "109/109 [==============================] - 24s 223ms/step - loss: 0.1383 - binary_accuracy: 0.9795 - val_loss: 0.1351 - val_binary_accuracy: 0.9775\n",
            "Epoch 13/100\n",
            "109/109 [==============================] - 24s 217ms/step - loss: 0.1117 - binary_accuracy: 0.9839 - val_loss: 0.1294 - val_binary_accuracy: 0.9793\n",
            "Epoch 14/100\n",
            "109/109 [==============================] - 22s 204ms/step - loss: 0.0959 - binary_accuracy: 0.9862 - val_loss: 0.1197 - val_binary_accuracy: 0.9801\n",
            "Epoch 15/100\n",
            "109/109 [==============================] - 22s 204ms/step - loss: 0.1940 - binary_accuracy: 0.9551 - val_loss: 0.1901 - val_binary_accuracy: 0.9611\n",
            "Epoch 16/100\n",
            "109/109 [==============================] - 22s 204ms/step - loss: 0.1398 - binary_accuracy: 0.9767 - val_loss: 0.1676 - val_binary_accuracy: 0.9672\n",
            "Epoch 17/100\n",
            "109/109 [==============================] - 23s 216ms/step - loss: 0.1254 - binary_accuracy: 0.9790 - val_loss: 0.1544 - val_binary_accuracy: 0.9698\n",
            "Epoch 18/100\n",
            "109/109 [==============================] - 23s 213ms/step - loss: 0.1112 - binary_accuracy: 0.9833 - val_loss: 0.1480 - val_binary_accuracy: 0.9758\n",
            "Epoch 19/100\n",
            "109/109 [==============================] - 22s 200ms/step - loss: 0.1055 - binary_accuracy: 0.9850 - val_loss: 0.1386 - val_binary_accuracy: 0.9801\n",
            "Epoch 20/100\n",
            "109/109 [==============================] - 22s 199ms/step - loss: 0.1096 - binary_accuracy: 0.9842 - val_loss: 0.1407 - val_binary_accuracy: 0.9810\n",
            "Epoch 21/100\n",
            "109/109 [==============================] - 22s 197ms/step - loss: 0.1060 - binary_accuracy: 0.9862 - val_loss: 0.1450 - val_binary_accuracy: 0.9819\n",
            "Epoch 22/100\n",
            "109/109 [==============================] - 22s 203ms/step - loss: 0.1011 - binary_accuracy: 0.9896 - val_loss: 0.1306 - val_binary_accuracy: 0.9853\n",
            "Epoch 23/100\n",
            "109/109 [==============================] - 21s 196ms/step - loss: 0.1089 - binary_accuracy: 0.9867 - val_loss: 0.1365 - val_binary_accuracy: 0.9827\n",
            "Epoch 24/100\n",
            "109/109 [==============================] - 21s 197ms/step - loss: 0.1384 - binary_accuracy: 0.9732 - val_loss: 0.1817 - val_binary_accuracy: 0.9750\n",
            "Epoch 25/100\n",
            "109/109 [==============================] - 20s 187ms/step - loss: 0.1159 - binary_accuracy: 0.9867 - val_loss: 0.1800 - val_binary_accuracy: 0.9801\n",
            "Epoch 26/100\n",
            "109/109 [==============================] - 22s 201ms/step - loss: 0.1033 - binary_accuracy: 0.9899 - val_loss: 0.1780 - val_binary_accuracy: 0.9801\n",
            "Epoch 27/100\n",
            "109/109 [==============================] - 21s 194ms/step - loss: 0.1041 - binary_accuracy: 0.9885 - val_loss: 0.1499 - val_binary_accuracy: 0.9801\n",
            "Epoch 28/100\n",
            "109/109 [==============================] - 22s 200ms/step - loss: 0.1999 - binary_accuracy: 0.9744 - val_loss: 0.1467 - val_binary_accuracy: 0.9793\n",
            "Epoch 29/100\n",
            "109/109 [==============================] - 21s 195ms/step - loss: 0.0978 - binary_accuracy: 0.9905 - val_loss: 0.1444 - val_binary_accuracy: 0.9819\n",
            "Epoch 30/100\n",
            "109/109 [==============================] - 21s 193ms/step - loss: 0.0923 - binary_accuracy: 0.9908 - val_loss: 0.1453 - val_binary_accuracy: 0.9836\n"
          ]
        }
      ]
    },
    {
      "cell_type": "code",
      "source": [
        "# Evaluate the model on the test set\n",
        "loss, accuracy = model.evaluate(X_test, y_test, batch_size=batch_size)\n",
        "print('Test loss:', loss, 'Test accuracy:', accuracy)"
      ],
      "metadata": {
        "colab": {
          "base_uri": "https://localhost:8080/"
        },
        "id": "8hCzr7UEcC06",
        "outputId": "4286431f-4643-48ae-f9cb-087d6328e1fc"
      },
      "execution_count": null,
      "outputs": [
        {
          "output_type": "stream",
          "name": "stdout",
          "text": [
            "37/37 [==============================] - 2s 58ms/step - loss: 0.1326 - binary_accuracy: 0.9801\n",
            "Test loss: 0.13256385922431946 Test accuracy: 0.9801381826400757\n"
          ]
        }
      ]
    },
    {
      "cell_type": "code",
      "source": [
        "# Get model predictions on the test data\n",
        "y_pred = model.predict(X_test)\n",
        "y_pred = np.round(y_pred).astype(int)  # Round and convert to int for binary classification"
      ],
      "metadata": {
        "colab": {
          "base_uri": "https://localhost:8080/"
        },
        "id": "SNKsrm7hc5gu",
        "outputId": "99cd4039-13e5-4768-b6d2-7d8cc837d525"
      },
      "execution_count": null,
      "outputs": [
        {
          "output_type": "stream",
          "name": "stdout",
          "text": [
            "37/37 [==============================] - 3s 54ms/step\n"
          ]
        }
      ]
    },
    {
      "cell_type": "code",
      "source": [
        "from sklearn.metrics import confusion_matrix\n",
        "# Confusion Matrix\n",
        "cm = confusion_matrix(y_test, y_pred)\n",
        "print('Confusion Matrix:')\n",
        "print(cm)"
      ],
      "metadata": {
        "id": "nZMmedDRBb38",
        "colab": {
          "base_uri": "https://localhost:8080/"
        },
        "outputId": "98b3272d-3344-4872-9ba1-e92409d5ce58"
      },
      "execution_count": null,
      "outputs": [
        {
          "output_type": "stream",
          "name": "stdout",
          "text": [
            "Confusion Matrix:\n",
            "[[786   3]\n",
            " [ 20 349]]\n"
          ]
        }
      ]
    },
    {
      "cell_type": "code",
      "source": [
        "import seaborn as sns\n",
        "import matplotlib.pyplot as plt\n",
        "\n",
        "plt.figure(figsize=(8,6))\n",
        "sns.heatmap(cm, annot=True, fmt='d')\n",
        "plt.xlabel('Predicted Label')\n",
        "plt.ylabel('True Label')\n",
        "plt.show()"
      ],
      "metadata": {
        "id": "GeJPLll1Bfpz",
        "colab": {
          "base_uri": "https://localhost:8080/",
          "height": 542
        },
        "outputId": "292d70d0-278a-4cb6-ebae-8d1731fd56a8"
      },
      "execution_count": null,
      "outputs": [
        {
          "output_type": "display_data",
          "data": {
            "text/plain": [
              "<Figure size 800x600 with 2 Axes>"
            ],
            "image/png": "[encoded data removed]"
          },
          "metadata": {}
        }
      ]
    },
    {
      "cell_type": "code",
      "source": [
        "# Calculate metrics\n",
        "from sklearn.metrics import precision_score, recall_score, f1_score\n",
        "\n",
        "precision = precision_score(y_test, y_pred)\n",
        "recall = recall_score(y_test, y_pred)\n",
        "f1 = f1_score(y_test, y_pred)\n",
        "\n",
        "print(f'Precision: {precision}')\n",
        "print(f'Recall: {recall}')\n",
        "print(f'F1 Score: {f1}')"
      ],
      "metadata": {
        "colab": {
          "base_uri": "https://localhost:8080/"
        },
        "id": "mvkfAQMcdPL9",
        "outputId": "67fbd11c-b6ab-4cd1-d34b-10dc340fca6c"
      },
      "execution_count": null,
      "outputs": [
        {
          "output_type": "stream",
          "name": "stdout",
          "text": [
            "Precision: 0.9914772727272727\n",
            "Recall: 0.94579945799458\n",
            "F1 Score: 0.9680998613037449\n"
          ]
        }
      ]
    },
    {
      "cell_type": "code",
      "source": [
        "# Check the shape of X_test\n",
        "print(f\"Shape of X_test: {X_test.shape}\")\n",
        "\n",
        "# Generate predictions\n",
        "y_pred = model.predict(X_test)\n",
        "\n",
        "# Check the shape of y_pred\n",
        "print(f\"Shape of y_pred: {y_pred.shape}\")\n"
      ],
      "metadata": {
        "colab": {
          "base_uri": "https://localhost:8080/"
        },
        "id": "l-fjgnfz9KoI",
        "outputId": "33df1883-0ca2-4cc8-cb68-559611fb7f66"
      },
      "execution_count": null,
      "outputs": [
        {
          "output_type": "stream",
          "name": "stdout",
          "text": [
            "Shape of X_test: (1158, 1381)\n",
            "37/37 [==============================] - 2s 57ms/step\n",
            "Shape of y_pred: (1158, 1)\n"
          ]
        }
      ]
    },
    {
      "cell_type": "code",
      "source": [
        "# Flatten y_pred to have the same shape as y_test\n",
        "y_pred = y_pred.flatten()"
      ],
      "metadata": {
        "id": "MpGOmwwC-aXJ"
      },
      "execution_count": null,
      "outputs": []
    },
    {
      "cell_type": "code",
      "source": [
        "y_pred.size"
      ],
      "metadata": {
        "colab": {
          "base_uri": "https://localhost:8080/"
        },
        "id": "ccY54qAj-eQ-",
        "outputId": "9fbce3e8-c663-4c98-981e-0bbaa86d230f"
      },
      "execution_count": null,
      "outputs": [
        {
          "output_type": "execute_result",
          "data": {
            "text/plain": [
              "1158"
            ]
          },
          "metadata": {},
          "execution_count": 54
        }
      ]
    },
    {
      "cell_type": "code",
      "source": [
        "from sklearn.metrics import roc_auc_score\n",
        "# Calculate AUC\n",
        "auc = roc_auc_score(y_test, y_pred)\n",
        "print(f\"AUC: {auc}\")"
      ],
      "metadata": {
        "colab": {
          "base_uri": "https://localhost:8080/"
        },
        "id": "zLbbthj9-kCg",
        "outputId": "df73f6f2-288c-4508-9e9b-cf0227257eaa"
      },
      "execution_count": null,
      "outputs": [
        {
          "output_type": "stream",
          "name": "stdout",
          "text": [
            "AUC: 0.9959469810160713\n"
          ]
        }
      ]
    },
    {
      "cell_type": "code",
      "source": [
        "# Plot training & validation accuracy values\n",
        "import matplotlib.pyplot as plt\n",
        "\n",
        "plt.figure(figsize=(12, 4))\n",
        "plt.subplot(1, 2, 1)\n",
        "plt.plot(history.history['binary_accuracy'])\n",
        "plt.plot(history.history['val_binary_accuracy'])\n",
        "plt.title('Model accuracy')\n",
        "plt.ylabel('Accuracy')\n",
        "plt.xlabel('Epoch')\n",
        "plt.legend(['Train', 'Validation'], loc='upper left')\n",
        "\n",
        "# Plot training & validation loss values\n",
        "plt.subplot(1, 2, 2)\n",
        "plt.plot(history.history['loss'])\n",
        "plt.plot(history.history['val_loss'])\n",
        "plt.title('Model loss')\n",
        "plt.ylabel('Loss')\n",
        "plt.xlabel('Epoch')\n",
        "plt.legend(['Train', 'Validation'], loc='upper left')\n",
        "\n",
        "plt.tight_layout()\n",
        "plt.show()\n"
      ],
      "metadata": {
        "id": "lfGboxfldX4M",
        "colab": {
          "base_uri": "https://localhost:8080/",
          "height": 396
        },
        "outputId": "5ac44523-f157-41d8-b76b-719037f92620"
      },
      "execution_count": null,
      "outputs": [
        {
          "output_type": "display_data",
          "data": {
            "text/plain": [
              "<Figure size 1200x400 with 2 Axes>"
            ],
            "image/png": "[encoded data removed]"
          },
          "metadata": {}
        }
      ]
    },
    {
      "cell_type": "markdown",
      "source": [
        "# Ablation Study in terms of Hyperparameter Sensitivity and Regularization Impact"
      ],
      "metadata": {
        "id": "eCXftyRIkfTr"
      }
    },
    {
      "cell_type": "code",
      "source": [
        "# Define the model\n",
        "embed_dim = 128  # Embedding dimension\n",
        "rnn_units = 256 # Number of units in LSTM layers\n",
        "batch_size = 16  # Batch size for training\n",
        "learning_rate = 0.0001  # Learning rate"
      ],
      "metadata": {
        "id": "KLuS2sw_kxL8"
      },
      "execution_count": null,
      "outputs": []
    },
    {
      "cell_type": "code",
      "source": [
        "inputs = Input(shape=(max_len_95_percent,), dtype=tf.int32)"
      ],
      "metadata": {
        "id": "IOz_yvYOlh09"
      },
      "execution_count": null,
      "outputs": []
    },
    {
      "cell_type": "code",
      "source": [
        "#Embedding layer to convert word indices to vectors\n",
        "embeddings = Embedding(vocab_size, embed_dim)(inputs)"
      ],
      "metadata": {
        "id": "tRMaEv25ll3z"
      },
      "execution_count": null,
      "outputs": []
    },
    {
      "cell_type": "code",
      "source": [
        "#Bi-directional LSTM layer for processing sequences (without Regularization and Dropout)\n",
        "x = Bidirectional(LSTM(rnn_units, return_sequences=True))(embeddings)"
      ],
      "metadata": {
        "id": "53dKQ8-EmBcY"
      },
      "execution_count": null,
      "outputs": []
    },
    {
      "cell_type": "code",
      "source": [
        "# 7. Attention layer\n",
        "def scaled_dot_product_attention(queries, keys, values):\n",
        "  \"\"\"Scaled Dot-Product Attention Layer.\"\"\"\n",
        "  scores = tf.matmul(queries, keys, transpose_b=True) / tf.sqrt(tf.cast(tf.shape(keys)[-1], tf.float32))\n",
        "  weights = tf.nn.softmax(scores, axis=-1)\n",
        "  output = tf.matmul(weights, values)\n",
        "  return output"
      ],
      "metadata": {
        "id": "YdQmdebNmKEN"
      },
      "execution_count": null,
      "outputs": []
    },
    {
      "cell_type": "code",
      "source": [
        "attention_output = scaled_dot_product_attention(x, x, x)  # Apply attention"
      ],
      "metadata": {
        "id": "8gTe3tURmZ6z"
      },
      "execution_count": null,
      "outputs": []
    },
    {
      "cell_type": "code",
      "source": [
        "#Global average pooling\n",
        "x = GlobalAveragePooling1D()(attention_output)  # Pool after attention"
      ],
      "metadata": {
        "id": "pVdzjUZ0mdlL"
      },
      "execution_count": null,
      "outputs": []
    },
    {
      "cell_type": "code",
      "source": [
        "#Dense layer for output with sigmoid activation for binary classification\n",
        "outputs = Dense(1, activation='sigmoid')(x)"
      ],
      "metadata": {
        "id": "vlwmURhNmgWg"
      },
      "execution_count": null,
      "outputs": []
    },
    {
      "cell_type": "code",
      "source": [
        "model = Model(inputs=inputs, outputs=outputs)"
      ],
      "metadata": {
        "id": "VzmFv1xumjIH"
      },
      "execution_count": null,
      "outputs": []
    },
    {
      "cell_type": "code",
      "source": [
        "model.summary()"
      ],
      "metadata": {
        "colab": {
          "base_uri": "https://localhost:8080/"
        },
        "id": "IOwBuuwuml-Z",
        "outputId": "c0dacfad-c15c-493a-a8fc-992be4fcf34c"
      },
      "execution_count": null,
      "outputs": [
        {
          "output_type": "stream",
          "name": "stdout",
          "text": [
            "Model: \"model\"\n",
            "__________________________________________________________________________________________________\n",
            " Layer (type)                Output Shape                 Param #   Connected to                  \n",
            "==================================================================================================\n",
            " input_2 (InputLayer)        [(None, 1381)]               0         []                            \n",
            "                                                                                                  \n",
            " embedding_1 (Embedding)     (None, 1381, 128)            1387622   ['input_2[0][0]']             \n",
            "                                                          4                                       \n",
            "                                                                                                  \n",
            " bidirectional_2 (Bidirecti  (None, 1381, 512)            788480    ['embedding_1[0][0]']         \n",
            " onal)                                                                                            \n",
            "                                                                                                  \n",
            " tf.compat.v1.shape (TFOpLa  (3,)                         0         ['bidirectional_2[0][0]']     \n",
            " mbda)                                                                                            \n",
            "                                                                                                  \n",
            " tf.__operators__.getitem (  ()                           0         ['tf.compat.v1.shape[0][0]']  \n",
            " SlicingOpLambda)                                                                                 \n",
            "                                                                                                  \n",
            " tf.cast (TFOpLambda)        ()                           0         ['tf.__operators__.getitem[0][\n",
            "                                                                    0]']                          \n",
            "                                                                                                  \n",
            " tf.linalg.matmul (TFOpLamb  (None, 1381, 1381)           0         ['bidirectional_2[0][0]',     \n",
            " da)                                                                 'bidirectional_2[0][0]']     \n",
            "                                                                                                  \n",
            " tf.math.sqrt (TFOpLambda)   ()                           0         ['tf.cast[0][0]']             \n",
            "                                                                                                  \n",
            " tf.math.truediv (TFOpLambd  (None, 1381, 1381)           0         ['tf.linalg.matmul[0][0]',    \n",
            " a)                                                                  'tf.math.sqrt[0][0]']        \n",
            "                                                                                                  \n",
            " tf.nn.softmax (TFOpLambda)  (None, 1381, 1381)           0         ['tf.math.truediv[0][0]']     \n",
            "                                                                                                  \n",
            " tf.linalg.matmul_1 (TFOpLa  (None, 1381, 512)            0         ['tf.nn.softmax[0][0]',       \n",
            " mbda)                                                               'bidirectional_2[0][0]']     \n",
            "                                                                                                  \n",
            " global_average_pooling1d (  (None, 512)                  0         ['tf.linalg.matmul_1[0][0]']  \n",
            " GlobalAveragePooling1D)                                                                          \n",
            "                                                                                                  \n",
            " dense (Dense)               (None, 1)                    513       ['global_average_pooling1d[0][\n",
            "                                                                    0]']                          \n",
            "                                                                                                  \n",
            "==================================================================================================\n",
            "Total params: 14665217 (55.94 MB)\n",
            "Trainable params: 14665217 (55.94 MB)\n",
            "Non-trainable params: 0 (0.00 Byte)\n",
            "__________________________________________________________________________________________________\n"
          ]
        }
      ]
    },
    {
      "cell_type": "code",
      "source": [
        "# Compile the model\n",
        "model.compile(\n",
        "    optimizer=Adam(learning_rate=learning_rate),\n",
        "    loss=BinaryCrossentropy(),\n",
        "    metrics=[BinaryAccuracy()]\n",
        ")"
      ],
      "metadata": {
        "id": "T8Skxub7mo0s"
      },
      "execution_count": null,
      "outputs": []
    },
    {
      "cell_type": "code",
      "source": [
        "#Train the Model\n",
        "early_stopping = EarlyStopping(monitor='val_binary_accuracy', patience=8)"
      ],
      "metadata": {
        "id": "5mcz1v5Dmw3h"
      },
      "execution_count": null,
      "outputs": []
    },
    {
      "cell_type": "code",
      "source": [
        "# Fit the model\n",
        "history = model.fit(\n",
        "    X_train, y_train,\n",
        "    epochs=100,\n",
        "    validation_data=(X_val, y_val),\n",
        "    batch_size=batch_size,\n",
        "    callbacks=[early_stopping]\n",
        ")"
      ],
      "metadata": {
        "colab": {
          "base_uri": "https://localhost:8080/"
        },
        "id": "kuhK_WMBm1Na",
        "outputId": "aa6e2cd3-0de9-4e2f-d2f6-97a2585c63c5"
      },
      "execution_count": null,
      "outputs": [
        {
          "output_type": "stream",
          "name": "stdout",
          "text": [
            "Epoch 1/100\n",
            "217/217 [==============================] - 69s 270ms/step - loss: 0.4977 - binary_accuracy: 0.7724 - val_loss: 0.1884 - val_binary_accuracy: 0.9456\n",
            "Epoch 2/100\n",
            "217/217 [==============================] - 54s 251ms/step - loss: 0.1631 - binary_accuracy: 0.9470 - val_loss: 0.1202 - val_binary_accuracy: 0.9585\n",
            "Epoch 3/100\n",
            "217/217 [==============================] - 52s 240ms/step - loss: 0.1012 - binary_accuracy: 0.9602 - val_loss: 0.1009 - val_binary_accuracy: 0.9620\n",
            "Epoch 4/100\n",
            "217/217 [==============================] - 50s 230ms/step - loss: 0.0716 - binary_accuracy: 0.9732 - val_loss: 0.0728 - val_binary_accuracy: 0.9750\n",
            "Epoch 5/100\n",
            "217/217 [==============================] - 48s 223ms/step - loss: 0.0613 - binary_accuracy: 0.9775 - val_loss: 0.0659 - val_binary_accuracy: 0.9741\n",
            "Epoch 6/100\n",
            "217/217 [==============================] - 48s 219ms/step - loss: 0.0406 - binary_accuracy: 0.9853 - val_loss: 0.0674 - val_binary_accuracy: 0.9810\n",
            "Epoch 7/100\n",
            "217/217 [==============================] - 49s 227ms/step - loss: 0.0319 - binary_accuracy: 0.9885 - val_loss: 0.0675 - val_binary_accuracy: 0.9827\n",
            "Epoch 8/100\n",
            "217/217 [==============================] - 48s 223ms/step - loss: 0.0413 - binary_accuracy: 0.9870 - val_loss: 0.0791 - val_binary_accuracy: 0.9836\n",
            "Epoch 9/100\n",
            "217/217 [==============================] - 46s 214ms/step - loss: 0.0466 - binary_accuracy: 0.9905 - val_loss: 0.1009 - val_binary_accuracy: 0.9862\n",
            "Epoch 10/100\n",
            "217/217 [==============================] - 44s 205ms/step - loss: 0.0403 - binary_accuracy: 0.9937 - val_loss: 0.0911 - val_binary_accuracy: 0.9870\n",
            "Epoch 11/100\n",
            "217/217 [==============================] - 45s 209ms/step - loss: 0.0323 - binary_accuracy: 0.9957 - val_loss: 0.0954 - val_binary_accuracy: 0.9836\n",
            "Epoch 12/100\n",
            "217/217 [==============================] - 43s 201ms/step - loss: 0.0512 - binary_accuracy: 0.9899 - val_loss: 0.0600 - val_binary_accuracy: 0.9896\n",
            "Epoch 13/100\n",
            "217/217 [==============================] - 45s 208ms/step - loss: 0.0247 - binary_accuracy: 0.9968 - val_loss: 0.0702 - val_binary_accuracy: 0.9914\n",
            "Epoch 14/100\n",
            "217/217 [==============================] - 44s 201ms/step - loss: 0.0213 - binary_accuracy: 0.9974 - val_loss: 0.0651 - val_binary_accuracy: 0.9914\n",
            "Epoch 15/100\n",
            "217/217 [==============================] - 48s 223ms/step - loss: 0.0248 - binary_accuracy: 0.9960 - val_loss: 0.0972 - val_binary_accuracy: 0.9896\n",
            "Epoch 16/100\n",
            "217/217 [==============================] - 43s 199ms/step - loss: 0.0211 - binary_accuracy: 0.9977 - val_loss: 0.0958 - val_binary_accuracy: 0.9905\n",
            "Epoch 17/100\n",
            "217/217 [==============================] - 43s 198ms/step - loss: 0.0153 - binary_accuracy: 0.9991 - val_loss: 0.1022 - val_binary_accuracy: 0.9914\n",
            "Epoch 18/100\n",
            "217/217 [==============================] - 44s 201ms/step - loss: 0.0159 - binary_accuracy: 0.9988 - val_loss: 0.0993 - val_binary_accuracy: 0.9905\n",
            "Epoch 19/100\n",
            "217/217 [==============================] - 46s 211ms/step - loss: 0.0149 - binary_accuracy: 0.9991 - val_loss: 0.1154 - val_binary_accuracy: 0.9914\n",
            "Epoch 20/100\n",
            "217/217 [==============================] - 45s 206ms/step - loss: 0.0162 - binary_accuracy: 0.9991 - val_loss: 0.1030 - val_binary_accuracy: 0.9914\n",
            "Epoch 21/100\n",
            "217/217 [==============================] - 46s 214ms/step - loss: 0.0143 - binary_accuracy: 0.9991 - val_loss: 0.1008 - val_binary_accuracy: 0.9914\n"
          ]
        }
      ]
    },
    {
      "cell_type": "code",
      "source": [
        "# Evaluate the model on the test set\n",
        "loss, accuracy = model.evaluate(X_test, y_test, batch_size=batch_size)\n",
        "print('Test loss:', loss, 'Test accuracy:', accuracy)"
      ],
      "metadata": {
        "colab": {
          "base_uri": "https://localhost:8080/"
        },
        "id": "TDJGdgkGqMkq",
        "outputId": "0399560e-88d0-4eb3-9248-a13fe09acfd3"
      },
      "execution_count": null,
      "outputs": [
        {
          "output_type": "stream",
          "name": "stdout",
          "text": [
            "73/73 [==============================] - 5s 73ms/step - loss: 0.0397 - binary_accuracy: 0.9922\n",
            "Test loss: 0.039676252752542496 Test accuracy: 0.9922279715538025\n"
          ]
        }
      ]
    },
    {
      "cell_type": "code",
      "source": [
        "# Get model predictions on the test data\n",
        "y_pred = model.predict(X_test)\n",
        "y_pred = np.round(y_pred).astype(int)  # Round and convert to int for binary classification"
      ],
      "metadata": {
        "colab": {
          "base_uri": "https://localhost:8080/"
        },
        "id": "RHrLlWEOqTeU",
        "outputId": "5c96b49a-cfbf-4c66-bed4-9b1832d33c53"
      },
      "execution_count": null,
      "outputs": [
        {
          "output_type": "stream",
          "name": "stdout",
          "text": [
            "37/37 [==============================] - 4s 99ms/step\n"
          ]
        }
      ]
    },
    {
      "cell_type": "code",
      "source": [
        "from sklearn.metrics import confusion_matrix\n",
        "# Confusion Matrix\n",
        "cm = confusion_matrix(y_test, y_pred)\n",
        "print('Confusion Matrix:')\n",
        "print(cm)"
      ],
      "metadata": {
        "colab": {
          "base_uri": "https://localhost:8080/"
        },
        "id": "konoZFsBqWM0",
        "outputId": "e4f531f5-3fee-47a3-a203-f625952705f9"
      },
      "execution_count": null,
      "outputs": [
        {
          "output_type": "stream",
          "name": "stdout",
          "text": [
            "Confusion Matrix:\n",
            "[[789   0]\n",
            " [  9 360]]\n"
          ]
        }
      ]
    },
    {
      "cell_type": "code",
      "source": [
        "import seaborn as sns\n",
        "import matplotlib.pyplot as plt\n",
        "\n",
        "plt.figure(figsize=(8,6))\n",
        "sns.heatmap(cm, annot=True, fmt='d')\n",
        "plt.xlabel('Predicted Label')\n",
        "plt.ylabel('True Label')\n",
        "plt.show()"
      ],
      "metadata": {
        "colab": {
          "base_uri": "https://localhost:8080/",
          "height": 542
        },
        "id": "gG3k5Qbvqe2L",
        "outputId": "fd312520-483a-404d-8898-348ee669832b"
      },
      "execution_count": null,
      "outputs": [
        {
          "output_type": "display_data",
          "data": {
            "text/plain": [
              "<Figure size 800x600 with 2 Axes>"
            ],
            "image/png": "[encoded data removed]"
          },
          "metadata": {}
        }
      ]
    },
    {
      "cell_type": "code",
      "source": [
        "# Calculate metrics\n",
        "from sklearn.metrics import precision_score, recall_score, f1_score\n",
        "\n",
        "precision = precision_score(y_test, y_pred)\n",
        "recall = recall_score(y_test, y_pred)\n",
        "f1 = f1_score(y_test, y_pred)\n",
        "\n",
        "print(f'Precision: {precision}')\n",
        "print(f'Recall: {recall}')\n",
        "print(f'F1 Score: {f1}')"
      ],
      "metadata": {
        "colab": {
          "base_uri": "https://localhost:8080/"
        },
        "id": "cBaeOXhRqify",
        "outputId": "692c0117-e3f6-4608-c030-1d72b764b6db"
      },
      "execution_count": null,
      "outputs": [
        {
          "output_type": "stream",
          "name": "stdout",
          "text": [
            "Precision: 1.0\n",
            "Recall: 0.975609756097561\n",
            "F1 Score: 0.9876543209876543\n"
          ]
        }
      ]
    },
    {
      "cell_type": "code",
      "source": [
        "# Check the shape of X_test\n",
        "print(f\"Shape of X_test: {X_test.shape}\")\n",
        "\n",
        "# Generate predictions\n",
        "y_pred = model.predict(X_test)\n",
        "\n",
        "# Check the shape of y_pred\n",
        "print(f\"Shape of y_pred: {y_pred.shape}\")"
      ],
      "metadata": {
        "colab": {
          "base_uri": "https://localhost:8080/"
        },
        "id": "PiJaATagqlvF",
        "outputId": "6d8c74d4-3472-4163-bf78-aea7537dcbd7"
      },
      "execution_count": null,
      "outputs": [
        {
          "output_type": "stream",
          "name": "stdout",
          "text": [
            "Shape of X_test: (1158, 1381)\n",
            "37/37 [==============================] - 4s 101ms/step\n",
            "Shape of y_pred: (1158, 1)\n"
          ]
        }
      ]
    },
    {
      "cell_type": "code",
      "source": [
        "# Flatten y_pred to have the same shape as y_test\n",
        "y_pred = y_pred.flatten()"
      ],
      "metadata": {
        "id": "I0TOx6mBqocx"
      },
      "execution_count": null,
      "outputs": []
    },
    {
      "cell_type": "code",
      "source": [
        "y_pred.size"
      ],
      "metadata": {
        "colab": {
          "base_uri": "https://localhost:8080/"
        },
        "id": "9BF1OCcbqr_l",
        "outputId": "1a58bb64-093c-4fc4-9641-f4ba008fb785"
      },
      "execution_count": null,
      "outputs": [
        {
          "output_type": "execute_result",
          "data": {
            "text/plain": [
              "1158"
            ]
          },
          "metadata": {},
          "execution_count": 59
        }
      ]
    },
    {
      "cell_type": "code",
      "source": [
        "from sklearn.metrics import roc_auc_score\n",
        "# Calculate AUC\n",
        "auc = roc_auc_score(y_test, y_pred)\n",
        "print(f\"AUC: {auc}\")"
      ],
      "metadata": {
        "colab": {
          "base_uri": "https://localhost:8080/"
        },
        "id": "vR8AlXw3qusj",
        "outputId": "501363dc-4350-420b-ddc0-6149e5eb14a2"
      },
      "execution_count": null,
      "outputs": [
        {
          "output_type": "stream",
          "name": "stdout",
          "text": [
            "AUC: 0.9953458976921835\n"
          ]
        }
      ]
    },
    {
      "cell_type": "code",
      "source": [
        "# Plot training & validation accuracy values (assuming history object exists)\n",
        "import matplotlib.pyplot as plt\n",
        "\n",
        "plt.figure(figsize=(12, 4))\n",
        "plt.subplot(1, 2, 1)\n",
        "plt.plot(history.history['binary_accuracy'])\n",
        "plt.plot(history.history['val_binary_accuracy'])\n",
        "plt.title('Model accuracy')\n",
        "plt.ylabel('Accuracy')\n",
        "plt.xlabel('Epoch')\n",
        "plt.legend(['Train', 'Validation'], loc='upper left')\n",
        "\n",
        "# Plot training & validation loss values\n",
        "plt.subplot(1, 2, 2)\n",
        "plt.plot(history.history['loss'])\n",
        "plt.plot(history.history['val_loss'])\n",
        "plt.title('Model loss')\n",
        "plt.ylabel('Loss')\n",
        "plt.xlabel('Epoch')\n",
        "plt.legend(['Train', 'Validation'], loc='upper left')\n",
        "\n",
        "plt.tight_layout()\n",
        "plt.show()"
      ],
      "metadata": {
        "colab": {
          "base_uri": "https://localhost:8080/",
          "height": 396
        },
        "id": "RxHD0Upoqx_Q",
        "outputId": "48e6e768-0afe-43c3-f2f5-74c37465f264"
      },
      "execution_count": null,
      "outputs": [
        {
          "output_type": "display_data",
          "data": {
            "text/plain": [
              "<Figure size 1200x400 with 2 Axes>"
            ],
            "image/png": "[encoded data removed]"
          },
          "metadata": {}
        }
      ]
    }
  ]
}